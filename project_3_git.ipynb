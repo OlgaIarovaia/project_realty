{
 "cells": [
  {
   "cell_type": "markdown",
   "id": "2afe06dd",
   "metadata": {},
   "source": [
    "# Исходные данные\n",
    "\n",
    "Данные, с которыми проводится работа - таблица формата CSV c информацией сервиса Яндекс Недвижимость за несколько лет.\n",
    "\n",
    "В таблице присутствует следующая информация:\n",
    "\n",
    " - airports_nearest — расстояние до ближайшего аэропорта в метрах (м)\n",
    " - balcony — число балконов\n",
    " - ceiling_height — высота потолков (м)\n",
    " - cityCenters_nearest — расстояние до центра города (м)\n",
    " - days_exposition — сколько дней было размещено объявление (от публикации до снятия)\n",
    " - first_day_exposition — дата публикации\n",
    " - floor — этаж\n",
    " - floors_total — всего этажей в доме\n",
    " - is_apartment — апартаменты (булев тип)\n",
    " - kitchen_area — площадь кухни в квадратных метрах (м²)\n",
    " - last_price — цена на момент снятия с публикации\n",
    " - living_area — жилая площадь в квадратных метрах (м²)\n",
    " - locality_name — название населённого пункта\n",
    " - open_plan — свободная планировка (булев тип)\n",
    " - parks_around3000 — число парков в радиусе 3 км\n",
    " - parks_nearest — расстояние до ближайшего парка (м)\n",
    " - ponds_around3000 — число водоёмов в радиусе 3 км\n",
    " - ponds_nearest — расстояние до ближайшего водоёма (м)\n",
    " - rooms — число комнат\n",
    " - studio — квартира-студия (булев тип)\n",
    " - total_area — общая площадь квартиры в квадратных метрах (м²)\n",
    " - total_images — число фотографий квартиры в объявлении"
   ]
  },
  {
   "cell_type": "markdown",
   "id": "d10b3275",
   "metadata": {},
   "source": [
    "# Задачи\n",
    "\n",
    " - Выполнить предобработку данных и изучить их,\n",
    "\n",
    " - Найти интересные особенности и зависимости, которые существуют на рынке недвижимости."
   ]
  },
  {
   "cell_type": "markdown",
   "id": "5341178b",
   "metadata": {},
   "source": [
    "# Ход исследования"
   ]
  },
  {
   "cell_type": "code",
   "execution_count": 2,
   "id": "5c20221e",
   "metadata": {},
   "outputs": [],
   "source": [
    "# Импорт библиотек\n",
    "\n",
    "import pandas as pd\n",
    "import matplotlib.pylab as plt"
   ]
  },
  {
   "cell_type": "code",
   "execution_count": 3,
   "id": "d77ea203",
   "metadata": {},
   "outputs": [],
   "source": [
    "# Чтение и сохранение датасета в переменную\n",
    "\n",
    "data = pd.read_csv('real_estate_data.csv', sep='\t')"
   ]
  },
  {
   "cell_type": "markdown",
   "id": "1ffbb871",
   "metadata": {},
   "source": [
    "## Обзор данных "
   ]
  },
  {
   "cell_type": "code",
   "execution_count": 4,
   "id": "7959a4a6",
   "metadata": {},
   "outputs": [
    {
     "data": {
      "text/html": [
       "<div>\n",
       "<style scoped>\n",
       "    .dataframe tbody tr th:only-of-type {\n",
       "        vertical-align: middle;\n",
       "    }\n",
       "\n",
       "    .dataframe tbody tr th {\n",
       "        vertical-align: top;\n",
       "    }\n",
       "\n",
       "    .dataframe thead th {\n",
       "        text-align: right;\n",
       "    }\n",
       "</style>\n",
       "<table border=\"1\" class=\"dataframe\">\n",
       "  <thead>\n",
       "    <tr style=\"text-align: right;\">\n",
       "      <th></th>\n",
       "      <th>total_images</th>\n",
       "      <th>last_price</th>\n",
       "      <th>total_area</th>\n",
       "      <th>first_day_exposition</th>\n",
       "      <th>rooms</th>\n",
       "      <th>ceiling_height</th>\n",
       "      <th>floors_total</th>\n",
       "      <th>living_area</th>\n",
       "      <th>floor</th>\n",
       "      <th>is_apartment</th>\n",
       "      <th>...</th>\n",
       "      <th>kitchen_area</th>\n",
       "      <th>balcony</th>\n",
       "      <th>locality_name</th>\n",
       "      <th>airports_nearest</th>\n",
       "      <th>cityCenters_nearest</th>\n",
       "      <th>parks_around3000</th>\n",
       "      <th>parks_nearest</th>\n",
       "      <th>ponds_around3000</th>\n",
       "      <th>ponds_nearest</th>\n",
       "      <th>days_exposition</th>\n",
       "    </tr>\n",
       "  </thead>\n",
       "  <tbody>\n",
       "    <tr>\n",
       "      <th>0</th>\n",
       "      <td>20</td>\n",
       "      <td>13000000.0</td>\n",
       "      <td>108.0</td>\n",
       "      <td>2019-03-07T00:00:00</td>\n",
       "      <td>3</td>\n",
       "      <td>2.70</td>\n",
       "      <td>16.0</td>\n",
       "      <td>51.0</td>\n",
       "      <td>8</td>\n",
       "      <td>NaN</td>\n",
       "      <td>...</td>\n",
       "      <td>25.0</td>\n",
       "      <td>NaN</td>\n",
       "      <td>Санкт-Петербург</td>\n",
       "      <td>18863.0</td>\n",
       "      <td>16028.0</td>\n",
       "      <td>1.0</td>\n",
       "      <td>482.0</td>\n",
       "      <td>2.0</td>\n",
       "      <td>755.0</td>\n",
       "      <td>NaN</td>\n",
       "    </tr>\n",
       "    <tr>\n",
       "      <th>1</th>\n",
       "      <td>7</td>\n",
       "      <td>3350000.0</td>\n",
       "      <td>40.4</td>\n",
       "      <td>2018-12-04T00:00:00</td>\n",
       "      <td>1</td>\n",
       "      <td>NaN</td>\n",
       "      <td>11.0</td>\n",
       "      <td>18.6</td>\n",
       "      <td>1</td>\n",
       "      <td>NaN</td>\n",
       "      <td>...</td>\n",
       "      <td>11.0</td>\n",
       "      <td>2.0</td>\n",
       "      <td>посёлок Шушары</td>\n",
       "      <td>12817.0</td>\n",
       "      <td>18603.0</td>\n",
       "      <td>0.0</td>\n",
       "      <td>NaN</td>\n",
       "      <td>0.0</td>\n",
       "      <td>NaN</td>\n",
       "      <td>81.0</td>\n",
       "    </tr>\n",
       "    <tr>\n",
       "      <th>2</th>\n",
       "      <td>10</td>\n",
       "      <td>5196000.0</td>\n",
       "      <td>56.0</td>\n",
       "      <td>2015-08-20T00:00:00</td>\n",
       "      <td>2</td>\n",
       "      <td>NaN</td>\n",
       "      <td>5.0</td>\n",
       "      <td>34.3</td>\n",
       "      <td>4</td>\n",
       "      <td>NaN</td>\n",
       "      <td>...</td>\n",
       "      <td>8.3</td>\n",
       "      <td>0.0</td>\n",
       "      <td>Санкт-Петербург</td>\n",
       "      <td>21741.0</td>\n",
       "      <td>13933.0</td>\n",
       "      <td>1.0</td>\n",
       "      <td>90.0</td>\n",
       "      <td>2.0</td>\n",
       "      <td>574.0</td>\n",
       "      <td>558.0</td>\n",
       "    </tr>\n",
       "    <tr>\n",
       "      <th>3</th>\n",
       "      <td>0</td>\n",
       "      <td>64900000.0</td>\n",
       "      <td>159.0</td>\n",
       "      <td>2015-07-24T00:00:00</td>\n",
       "      <td>3</td>\n",
       "      <td>NaN</td>\n",
       "      <td>14.0</td>\n",
       "      <td>NaN</td>\n",
       "      <td>9</td>\n",
       "      <td>NaN</td>\n",
       "      <td>...</td>\n",
       "      <td>NaN</td>\n",
       "      <td>0.0</td>\n",
       "      <td>Санкт-Петербург</td>\n",
       "      <td>28098.0</td>\n",
       "      <td>6800.0</td>\n",
       "      <td>2.0</td>\n",
       "      <td>84.0</td>\n",
       "      <td>3.0</td>\n",
       "      <td>234.0</td>\n",
       "      <td>424.0</td>\n",
       "    </tr>\n",
       "    <tr>\n",
       "      <th>4</th>\n",
       "      <td>2</td>\n",
       "      <td>10000000.0</td>\n",
       "      <td>100.0</td>\n",
       "      <td>2018-06-19T00:00:00</td>\n",
       "      <td>2</td>\n",
       "      <td>3.03</td>\n",
       "      <td>14.0</td>\n",
       "      <td>32.0</td>\n",
       "      <td>13</td>\n",
       "      <td>NaN</td>\n",
       "      <td>...</td>\n",
       "      <td>41.0</td>\n",
       "      <td>NaN</td>\n",
       "      <td>Санкт-Петербург</td>\n",
       "      <td>31856.0</td>\n",
       "      <td>8098.0</td>\n",
       "      <td>2.0</td>\n",
       "      <td>112.0</td>\n",
       "      <td>1.0</td>\n",
       "      <td>48.0</td>\n",
       "      <td>121.0</td>\n",
       "    </tr>\n",
       "  </tbody>\n",
       "</table>\n",
       "<p>5 rows × 22 columns</p>\n",
       "</div>"
      ],
      "text/plain": [
       "   total_images  last_price  total_area first_day_exposition  rooms  \\\n",
       "0            20  13000000.0       108.0  2019-03-07T00:00:00      3   \n",
       "1             7   3350000.0        40.4  2018-12-04T00:00:00      1   \n",
       "2            10   5196000.0        56.0  2015-08-20T00:00:00      2   \n",
       "3             0  64900000.0       159.0  2015-07-24T00:00:00      3   \n",
       "4             2  10000000.0       100.0  2018-06-19T00:00:00      2   \n",
       "\n",
       "   ceiling_height  floors_total  living_area  floor is_apartment  ...  \\\n",
       "0            2.70          16.0         51.0      8          NaN  ...   \n",
       "1             NaN          11.0         18.6      1          NaN  ...   \n",
       "2             NaN           5.0         34.3      4          NaN  ...   \n",
       "3             NaN          14.0          NaN      9          NaN  ...   \n",
       "4            3.03          14.0         32.0     13          NaN  ...   \n",
       "\n",
       "   kitchen_area  balcony    locality_name  airports_nearest  \\\n",
       "0          25.0      NaN  Санкт-Петербург           18863.0   \n",
       "1          11.0      2.0   посёлок Шушары           12817.0   \n",
       "2           8.3      0.0  Санкт-Петербург           21741.0   \n",
       "3           NaN      0.0  Санкт-Петербург           28098.0   \n",
       "4          41.0      NaN  Санкт-Петербург           31856.0   \n",
       "\n",
       "  cityCenters_nearest  parks_around3000  parks_nearest  ponds_around3000  \\\n",
       "0             16028.0               1.0          482.0               2.0   \n",
       "1             18603.0               0.0            NaN               0.0   \n",
       "2             13933.0               1.0           90.0               2.0   \n",
       "3              6800.0               2.0           84.0               3.0   \n",
       "4              8098.0               2.0          112.0               1.0   \n",
       "\n",
       "   ponds_nearest  days_exposition  \n",
       "0          755.0              NaN  \n",
       "1            NaN             81.0  \n",
       "2          574.0            558.0  \n",
       "3          234.0            424.0  \n",
       "4           48.0            121.0  \n",
       "\n",
       "[5 rows x 22 columns]"
      ]
     },
     "metadata": {},
     "output_type": "display_data"
    }
   ],
   "source": [
    "display(data.head())"
   ]
  },
  {
   "cell_type": "code",
   "execution_count": 5,
   "id": "2bbc65d2",
   "metadata": {},
   "outputs": [
    {
     "name": "stdout",
     "output_type": "stream",
     "text": [
      "<class 'pandas.core.frame.DataFrame'>\n",
      "RangeIndex: 23699 entries, 0 to 23698\n",
      "Data columns (total 22 columns):\n",
      " #   Column                Non-Null Count  Dtype  \n",
      "---  ------                --------------  -----  \n",
      " 0   total_images          23699 non-null  int64  \n",
      " 1   last_price            23699 non-null  float64\n",
      " 2   total_area            23699 non-null  float64\n",
      " 3   first_day_exposition  23699 non-null  object \n",
      " 4   rooms                 23699 non-null  int64  \n",
      " 5   ceiling_height        14504 non-null  float64\n",
      " 6   floors_total          23613 non-null  float64\n",
      " 7   living_area           21796 non-null  float64\n",
      " 8   floor                 23699 non-null  int64  \n",
      " 9   is_apartment          2775 non-null   object \n",
      " 10  studio                23699 non-null  bool   \n",
      " 11  open_plan             23699 non-null  bool   \n",
      " 12  kitchen_area          21421 non-null  float64\n",
      " 13  balcony               12180 non-null  float64\n",
      " 14  locality_name         23650 non-null  object \n",
      " 15  airports_nearest      18157 non-null  float64\n",
      " 16  cityCenters_nearest   18180 non-null  float64\n",
      " 17  parks_around3000      18181 non-null  float64\n",
      " 18  parks_nearest         8079 non-null   float64\n",
      " 19  ponds_around3000      18181 non-null  float64\n",
      " 20  ponds_nearest         9110 non-null   float64\n",
      " 21  days_exposition       20518 non-null  float64\n",
      "dtypes: bool(2), float64(14), int64(3), object(3)\n",
      "memory usage: 3.7+ MB\n"
     ]
    }
   ],
   "source": [
    "data.info()"
   ]
  },
  {
   "cell_type": "code",
   "execution_count": 6,
   "id": "3e29b11c",
   "metadata": {},
   "outputs": [
    {
     "data": {
      "text/plain": [
       "array([[<AxesSubplot:title={'center':'total_images'}>,\n",
       "        <AxesSubplot:title={'center':'last_price'}>,\n",
       "        <AxesSubplot:title={'center':'total_area'}>,\n",
       "        <AxesSubplot:title={'center':'rooms'}>],\n",
       "       [<AxesSubplot:title={'center':'ceiling_height'}>,\n",
       "        <AxesSubplot:title={'center':'floors_total'}>,\n",
       "        <AxesSubplot:title={'center':'living_area'}>,\n",
       "        <AxesSubplot:title={'center':'floor'}>],\n",
       "       [<AxesSubplot:title={'center':'kitchen_area'}>,\n",
       "        <AxesSubplot:title={'center':'balcony'}>,\n",
       "        <AxesSubplot:title={'center':'airports_nearest'}>,\n",
       "        <AxesSubplot:title={'center':'cityCenters_nearest'}>],\n",
       "       [<AxesSubplot:title={'center':'parks_around3000'}>,\n",
       "        <AxesSubplot:title={'center':'parks_nearest'}>,\n",
       "        <AxesSubplot:title={'center':'ponds_around3000'}>,\n",
       "        <AxesSubplot:title={'center':'ponds_nearest'}>],\n",
       "       [<AxesSubplot:title={'center':'days_exposition'}>, <AxesSubplot:>,\n",
       "        <AxesSubplot:>, <AxesSubplot:>]], dtype=object)"
      ]
     },
     "execution_count": 6,
     "metadata": {},
     "output_type": "execute_result"
    },
    {
     "data": {
      "image/png": "[encoded data removed]",
      "text/plain": [
       "<Figure size 1080x1440 with 20 Axes>"
      ]
     },
     "metadata": {
      "needs_background": "light"
     },
     "output_type": "display_data"
    }
   ],
   "source": [
    "data.hist(bins=5, figsize=(15, 20))"
   ]
  },
  {
   "cell_type": "markdown",
   "id": "d9c7d727",
   "metadata": {},
   "source": [
    "<div class=\"alert alert-info\"> \n",
    " \n",
    " - Необходима работа над аномальными и пропущенными значениями, неявными дубликатами, а также изменение типов данных в некоторых колонках."
   ]
  },
  {
   "cell_type": "markdown",
   "id": "a24e99d7",
   "metadata": {},
   "source": [
    "## Предобработка данных "
   ]
  },
  {
   "cell_type": "markdown",
   "id": "0a0f1077",
   "metadata": {},
   "source": [
    "### Аномальные значения "
   ]
  },
  {
   "cell_type": "code",
   "execution_count": 5,
   "id": "915de050",
   "metadata": {},
   "outputs": [
    {
     "data": {
      "text/plain": [
       "ceiling_height\n",
       "1.00       1\n",
       "1.20       1\n",
       "1.75       1\n",
       "2.00      11\n",
       "2.20       1\n",
       "          ..\n",
       "26.00      1\n",
       "27.00      8\n",
       "27.50      1\n",
       "32.00      2\n",
       "100.00     1\n",
       "Name: ceiling_height, Length: 183, dtype: int64"
      ]
     },
     "execution_count": 5,
     "metadata": {},
     "output_type": "execute_result"
    }
   ],
   "source": [
    "## Колонка ceiling_height\n",
    "\n",
    "#Сгруппируем датасет по высоте полотков и выведем распределение\n",
    "\n",
    "data = data.sort_values(by='ceiling_height')\n",
    "data.groupby('ceiling_height')['ceiling_height'].count()"
   ]
  },
  {
   "cell_type": "code",
   "execution_count": 8,
   "id": "e8c5a880",
   "metadata": {},
   "outputs": [
    {
     "data": {
      "text/plain": [
       "<AxesSubplot:>"
      ]
     },
     "execution_count": 8,
     "metadata": {},
     "output_type": "execute_result"
    },
    {
     "data": {
      "image/png": "[encoded data removed]",
      "text/plain": [
       "<Figure size 432x288 with 1 Axes>"
      ]
     },
     "metadata": {
      "needs_background": "light"
     },
     "output_type": "display_data"
    }
   ],
   "source": [
    "## Колонка ceiling_height\n",
    "\n",
    "# Построим гистограмму для лучшей визуализации данных\n",
    "\n",
    "data['ceiling_height'].hist(bins=5)"
   ]
  },
  {
   "cell_type": "code",
   "execution_count": 9,
   "id": "8960b393",
   "metadata": {},
   "outputs": [
    {
     "data": {
      "text/plain": [
       "1.0"
      ]
     },
     "execution_count": 9,
     "metadata": {},
     "output_type": "execute_result"
    }
   ],
   "source": [
    "## Колонка ceiling_height\n",
    "\n",
    "# Высота потолков в 1, 20-100 метров явная ошибка. В диапазоне 20-30 метров произведем корректировку (как 2.0-3.0)\n",
    "# Строки с аномальными значениями, не поддающимися корректировке удалим (до 2 метров)\n",
    "\n",
    "for height in data.loc[data['ceiling_height'] > 10, 'ceiling_height']:\n",
    "    # Функция проходит по каждому значению среза, где полотки выше 10 м, и делит это значением на 10.\n",
    "    data.loc[data['ceiling_height'] > 10, 'ceiling_height'] = height / 10\n",
    "\n",
    "data['ceiling_height'].min()"
   ]
  },
  {
   "cell_type": "code",
   "execution_count": 10,
   "id": "ac696672",
   "metadata": {},
   "outputs": [
    {
     "data": {
      "text/plain": [
       "2.0"
      ]
     },
     "execution_count": 10,
     "metadata": {},
     "output_type": "execute_result"
    }
   ],
   "source": [
    "## Колонка ceiling_height\n",
    "\n",
    "# Оставляем только те, строки, где высота потолков больше 2 м (строки с пропущенными значениями не удаляем)     \n",
    "data = data.loc[(data['ceiling_height'] >= 2)|(data['ceiling_height'].isna())]\n",
    "\n",
    "# Проверяем минимальное значение по получившемуся датасету\n",
    "data['ceiling_height'].min()"
   ]
  },
  {
   "cell_type": "code",
   "execution_count": 11,
   "id": "cb010491",
   "metadata": {},
   "outputs": [
    {
     "data": {
      "text/plain": [
       "living_area\n",
       "2.0      2\n",
       "3.0      2\n",
       "5.0      1\n",
       "5.4      1\n",
       "6.0      1\n",
       "        ..\n",
       "322.3    1\n",
       "332.0    1\n",
       "347.5    1\n",
       "409.0    1\n",
       "409.7    1\n",
       "Name: living_area, Length: 1782, dtype: int64"
      ]
     },
     "execution_count": 11,
     "metadata": {},
     "output_type": "execute_result"
    }
   ],
   "source": [
    "## Колонка living_area\n",
    "\n",
    "# Проверим распределение значений колонки \n",
    "\n",
    "data.groupby('living_area')['living_area'].count()"
   ]
  },
  {
   "cell_type": "code",
   "execution_count": 12,
   "id": "0b9e778a",
   "metadata": {},
   "outputs": [
    {
     "data": {
      "text/plain": [
       "total_area\n",
       "12.0     1\n",
       "13.0     3\n",
       "13.2     1\n",
       "14.0     1\n",
       "15.0     2\n",
       "        ..\n",
       "590.0    1\n",
       "618.0    1\n",
       "631.0    1\n",
       "631.2    1\n",
       "900.0    1\n",
       "Name: total_area, Length: 2181, dtype: int64"
      ]
     },
     "execution_count": 12,
     "metadata": {},
     "output_type": "execute_result"
    }
   ],
   "source": [
    "## Колонка living_area\n",
    "\n",
    "# Жилая площадь до 5 м выглядит подозрительно, проверим распределение общей S квартир\n",
    "\n",
    "data.groupby('total_area')['total_area'].count()"
   ]
  },
  {
   "cell_type": "code",
   "execution_count": 13,
   "id": "10a3c05f",
   "metadata": {},
   "outputs": [],
   "source": [
    "## Колонка living_area\n",
    "## Колонка total_area\n",
    "\n",
    "# Удалим строки, где жилая S меньше 5м и общая S - 0м\n",
    "\n",
    "data = data.loc[data['living_area'] > 5]\n",
    "data = data.loc[data['total_area'] != 0]"
   ]
  },
  {
   "cell_type": "markdown",
   "id": "340eb63a",
   "metadata": {},
   "source": [
    "### Пропуски "
   ]
  },
  {
   "cell_type": "markdown",
   "id": "88769d65",
   "metadata": {},
   "source": [
    "<div class=\"alert alert-warning\">\n",
    "\n",
    "Все колонки, где есть пропуски:\n",
    "\n",
    " - ceiling_height        14504\n",
    " - floors_total          23613 \n",
    " - living_area           21796 \n",
    " - is_apartment          2775  \n",
    " - kitchen_area          21421 \n",
    " - balcony               12180 \n",
    " - locality_name         23650  \n",
    " - airports_nearest      18157 \n",
    " - cityCenters_nearest   18180 \n",
    " - parks_around3000      18181 \n",
    " - parks_nearest         8079 \n",
    " - ponds_around3000      18181 \n",
    " - ponds_nearest         9110 \n",
    " - days_exposition       20518 "
   ]
  },
  {
   "cell_type": "code",
   "execution_count": 15,
   "id": "5c3fc812",
   "metadata": {},
   "outputs": [
    {
     "data": {
      "text/plain": [
       "0"
      ]
     },
     "execution_count": 15,
     "metadata": {},
     "output_type": "execute_result"
    }
   ],
   "source": [
    "## Колонка ceiling_height\n",
    "\n",
    "# Заполним пустые значения в колонке медианой и проверим отсутствие пропусков\n",
    "\n",
    "for ceil in data['ceiling_height'].unique():\n",
    "    data.loc[data['ceiling_height'].isna(), 'ceiling_height'] =\\\n",
    "    data.loc[~data['ceiling_height'].isna(), 'ceiling_height'].median()\n",
    "    \n",
    "data['ceiling_height'].isna().sum()    "
   ]
  },
  {
   "cell_type": "markdown",
   "id": "92d0bc43",
   "metadata": {},
   "source": [
    "<div class=\"alert alert-info\">\n",
    "\n",
    "Заполнить колонку floors_total(кол-во этажей в доме) медианными или средними значениями было бы неправильно, т.к. выборка жилья в датафрейме и по городу, и по области - поэтому существует очень большой разброс и возможны сильные отличия в зависимости от населенного пункта.\n",
    "Кроме того, существует колонка floor (этаж, на котором находится квартира), по которой можно осуществлять работу. \n",
    "    \n",
    " Поэтому пропуски в колонке floors_total будут оставлены."
   ]
  },
  {
   "cell_type": "code",
   "execution_count": 16,
   "id": "1786111a",
   "metadata": {},
   "outputs": [
    {
     "data": {
      "text/plain": [
       "0"
      ]
     },
     "execution_count": 16,
     "metadata": {},
     "output_type": "execute_result"
    }
   ],
   "source": [
    "## Колонка living_area\n",
    "\n",
    "# В датасете есть колонки общей S, жилой S и S кухни, причем общая S есть для всех строк \n",
    "# Примерную жилую площадь можно посчитать как разность общей площади и площади кухни (пренебрегая санузлами и проч.)\n",
    "# Оценим целесообразность, узнав сколько пропусков можно заполнить таким образом.\n",
    "\n",
    "data.loc[(data['living_area'].isna()) & ~(data['kitchen_area'].isna()), 'total_area'].count()"
   ]
  },
  {
   "cell_type": "code",
   "execution_count": 17,
   "id": "beed7ba5",
   "metadata": {},
   "outputs": [
    {
     "data": {
      "text/plain": [
       "0"
      ]
     },
     "execution_count": 17,
     "metadata": {},
     "output_type": "execute_result"
    }
   ],
   "source": [
    "## Колонка living_area\n",
    "\n",
    "# Напишем цикл для заполнения пропусков и выведем оставщееся кол-во пропусков колонки \n",
    "\n",
    "for value in data['living_area'].unique():\n",
    "    # Цикл сортирует датасет, где есть пропуски в жилой S и нет пропусков в S кухни и заполняет их разностью общей S и S кухни\n",
    "    data.loc[(data['living_area'].isna()) & ~(data['kitchen_area'].isna()), 'living_area'] = \\\n",
    "    data['total_area'] - data['kitchen_area']\n",
    "\n",
    "data['living_area'].isna().sum()"
   ]
  },
  {
   "cell_type": "code",
   "execution_count": 18,
   "id": "4c5bae08",
   "metadata": {},
   "outputs": [
    {
     "data": {
      "text/plain": [
       "<AxesSubplot:>"
      ]
     },
     "execution_count": 18,
     "metadata": {},
     "output_type": "execute_result"
    },
    {
     "data": {
      "image/png": "[encoded data removed]",
      "text/plain": [
       "<Figure size 432x288 with 1 Axes>"
      ]
     },
     "metadata": {
      "needs_background": "light"
     },
     "output_type": "display_data"
    }
   ],
   "source": [
    "## Колонка living_area\n",
    "\n",
    "# Оставшиеся пропуски заполним медианным значением по категориям общей площади\n",
    "# Посмотрим на распределение общей площади для создания сортировки\n",
    "\n",
    "data['total_area'].hist(bins=200)"
   ]
  },
  {
   "cell_type": "code",
   "execution_count": 19,
   "id": "2dad0427",
   "metadata": {},
   "outputs": [
    {
     "data": {
      "text/plain": [
       "0"
      ]
     },
     "execution_count": 19,
     "metadata": {},
     "output_type": "execute_result"
    }
   ],
   "source": [
    "## Колонка living_area\n",
    "\n",
    "# Зададим шаг для функции 10, так как квартир до 100 кв.м. очень много. \n",
    "# Функция будет категоризовать общую площадь в шаг 10 и заполнять пропуски медианным значением для полученного среза\n",
    "# Таким образом пропуски жилой S квартир с общей S 1-10м будет заполнена медианой жилой S квартир общей S 1-10 м. \n",
    "\n",
    "data.sort_values(by='total_area', inplace=True)\n",
    "step=10\n",
    "\n",
    "for value in data['total_area'].unique():\n",
    "    # Сортируем датасет с пустыми значениями жилой S, где общая S больше текущей и меньше текущей+10.\n",
    "    # Заполняем пустые значения этого шага медианой по полученному срезу\n",
    "    data.loc[(data['total_area'] >= value)&(data['total_area'] <= value+step)&(data['living_area'].isna()), 'living_area'] = \\\n",
    "    data.loc[(data['total_area'] >= value)&(data['total_area'] <= value+step)& ~(data['living_area'].isna()), 'living_area'].median()\n",
    "    \n",
    "# Проверим отсутствие пропусков    \n",
    "data['living_area'].isna().sum()"
   ]
  },
  {
   "cell_type": "code",
   "execution_count": 20,
   "id": "775fbcba",
   "metadata": {},
   "outputs": [
    {
     "data": {
      "text/plain": [
       "array([False,  True])"
      ]
     },
     "execution_count": 20,
     "metadata": {},
     "output_type": "execute_result"
    }
   ],
   "source": [
    "## Колонка is_apartment \n",
    "\n",
    "# Возвращает булево значение по наличию апартаментов\n",
    "# Поэтому логично предположить, что пропущенные значения - не апартаменты\n",
    "# Заменим все пропуски в этой колонке на False, затем удостоверимся в отсутствии пропусков\n",
    "\n",
    "data['is_apartment'].fillna(False, inplace=True)\n",
    "data['is_apartment'].unique()"
   ]
  },
  {
   "cell_type": "code",
   "execution_count": 21,
   "id": "53eadf36",
   "metadata": {},
   "outputs": [
    {
     "data": {
      "text/html": [
       "<div>\n",
       "<style scoped>\n",
       "    .dataframe tbody tr th:only-of-type {\n",
       "        vertical-align: middle;\n",
       "    }\n",
       "\n",
       "    .dataframe tbody tr th {\n",
       "        vertical-align: top;\n",
       "    }\n",
       "\n",
       "    .dataframe thead th {\n",
       "        text-align: right;\n",
       "    }\n",
       "</style>\n",
       "<table border=\"1\" class=\"dataframe\">\n",
       "  <thead>\n",
       "    <tr style=\"text-align: right;\">\n",
       "      <th></th>\n",
       "      <th>total_images</th>\n",
       "      <th>last_price</th>\n",
       "      <th>total_area</th>\n",
       "      <th>first_day_exposition</th>\n",
       "      <th>rooms</th>\n",
       "      <th>ceiling_height</th>\n",
       "      <th>floors_total</th>\n",
       "      <th>living_area</th>\n",
       "      <th>floor</th>\n",
       "      <th>is_apartment</th>\n",
       "      <th>...</th>\n",
       "      <th>kitchen_area</th>\n",
       "      <th>balcony</th>\n",
       "      <th>locality_name</th>\n",
       "      <th>airports_nearest</th>\n",
       "      <th>cityCenters_nearest</th>\n",
       "      <th>parks_around3000</th>\n",
       "      <th>parks_nearest</th>\n",
       "      <th>ponds_around3000</th>\n",
       "      <th>ponds_nearest</th>\n",
       "      <th>days_exposition</th>\n",
       "    </tr>\n",
       "  </thead>\n",
       "  <tbody>\n",
       "    <tr>\n",
       "      <th>19904</th>\n",
       "      <td>4</td>\n",
       "      <td>2400000.0</td>\n",
       "      <td>12.0</td>\n",
       "      <td>2017-07-19T00:00:00</td>\n",
       "      <td>1</td>\n",
       "      <td>2.55</td>\n",
       "      <td>5.0</td>\n",
       "      <td>10.0</td>\n",
       "      <td>2</td>\n",
       "      <td>False</td>\n",
       "      <td>...</td>\n",
       "      <td>NaN</td>\n",
       "      <td>NaN</td>\n",
       "      <td>Санкт-Петербург</td>\n",
       "      <td>21314.0</td>\n",
       "      <td>964.0</td>\n",
       "      <td>1.0</td>\n",
       "      <td>886.0</td>\n",
       "      <td>2.0</td>\n",
       "      <td>45.0</td>\n",
       "      <td>200.0</td>\n",
       "    </tr>\n",
       "    <tr>\n",
       "      <th>19807</th>\n",
       "      <td>0</td>\n",
       "      <td>3800000.0</td>\n",
       "      <td>13.0</td>\n",
       "      <td>2018-07-04T00:00:00</td>\n",
       "      <td>1</td>\n",
       "      <td>2.65</td>\n",
       "      <td>5.0</td>\n",
       "      <td>10.0</td>\n",
       "      <td>3</td>\n",
       "      <td>False</td>\n",
       "      <td>...</td>\n",
       "      <td>NaN</td>\n",
       "      <td>NaN</td>\n",
       "      <td>Санкт-Петербург</td>\n",
       "      <td>21302.0</td>\n",
       "      <td>1242.0</td>\n",
       "      <td>1.0</td>\n",
       "      <td>592.0</td>\n",
       "      <td>3.0</td>\n",
       "      <td>27.0</td>\n",
       "      <td>9.0</td>\n",
       "    </tr>\n",
       "    <tr>\n",
       "      <th>8886</th>\n",
       "      <td>10</td>\n",
       "      <td>2450000.0</td>\n",
       "      <td>15.5</td>\n",
       "      <td>2018-08-22T00:00:00</td>\n",
       "      <td>0</td>\n",
       "      <td>2.65</td>\n",
       "      <td>5.0</td>\n",
       "      <td>10.0</td>\n",
       "      <td>2</td>\n",
       "      <td>False</td>\n",
       "      <td>...</td>\n",
       "      <td>NaN</td>\n",
       "      <td>NaN</td>\n",
       "      <td>Санкт-Петербург</td>\n",
       "      <td>24326.0</td>\n",
       "      <td>4589.0</td>\n",
       "      <td>0.0</td>\n",
       "      <td>NaN</td>\n",
       "      <td>1.0</td>\n",
       "      <td>446.0</td>\n",
       "      <td>27.0</td>\n",
       "    </tr>\n",
       "    <tr>\n",
       "      <th>9412</th>\n",
       "      <td>5</td>\n",
       "      <td>2100000.0</td>\n",
       "      <td>16.0</td>\n",
       "      <td>2017-12-10T00:00:00</td>\n",
       "      <td>0</td>\n",
       "      <td>2.65</td>\n",
       "      <td>6.0</td>\n",
       "      <td>13.0</td>\n",
       "      <td>1</td>\n",
       "      <td>False</td>\n",
       "      <td>...</td>\n",
       "      <td>NaN</td>\n",
       "      <td>NaN</td>\n",
       "      <td>Санкт-Петербург</td>\n",
       "      <td>20735.0</td>\n",
       "      <td>2111.0</td>\n",
       "      <td>2.0</td>\n",
       "      <td>228.0</td>\n",
       "      <td>3.0</td>\n",
       "      <td>72.0</td>\n",
       "      <td>3.0</td>\n",
       "    </tr>\n",
       "    <tr>\n",
       "      <th>716</th>\n",
       "      <td>5</td>\n",
       "      <td>1500000.0</td>\n",
       "      <td>17.0</td>\n",
       "      <td>2017-06-07T00:00:00</td>\n",
       "      <td>0</td>\n",
       "      <td>2.70</td>\n",
       "      <td>9.0</td>\n",
       "      <td>12.0</td>\n",
       "      <td>1</td>\n",
       "      <td>False</td>\n",
       "      <td>...</td>\n",
       "      <td>NaN</td>\n",
       "      <td>0.0</td>\n",
       "      <td>посёлок Шушары</td>\n",
       "      <td>18654.0</td>\n",
       "      <td>29846.0</td>\n",
       "      <td>0.0</td>\n",
       "      <td>NaN</td>\n",
       "      <td>0.0</td>\n",
       "      <td>NaN</td>\n",
       "      <td>40.0</td>\n",
       "    </tr>\n",
       "    <tr>\n",
       "      <th>...</th>\n",
       "      <td>...</td>\n",
       "      <td>...</td>\n",
       "      <td>...</td>\n",
       "      <td>...</td>\n",
       "      <td>...</td>\n",
       "      <td>...</td>\n",
       "      <td>...</td>\n",
       "      <td>...</td>\n",
       "      <td>...</td>\n",
       "      <td>...</td>\n",
       "      <td>...</td>\n",
       "      <td>...</td>\n",
       "      <td>...</td>\n",
       "      <td>...</td>\n",
       "      <td>...</td>\n",
       "      <td>...</td>\n",
       "      <td>...</td>\n",
       "      <td>...</td>\n",
       "      <td>...</td>\n",
       "      <td>...</td>\n",
       "      <td>...</td>\n",
       "    </tr>\n",
       "    <tr>\n",
       "      <th>5631</th>\n",
       "      <td>14</td>\n",
       "      <td>99000000.0</td>\n",
       "      <td>280.0</td>\n",
       "      <td>2018-01-19T00:00:00</td>\n",
       "      <td>3</td>\n",
       "      <td>2.65</td>\n",
       "      <td>4.0</td>\n",
       "      <td>160.0</td>\n",
       "      <td>4</td>\n",
       "      <td>False</td>\n",
       "      <td>...</td>\n",
       "      <td>NaN</td>\n",
       "      <td>NaN</td>\n",
       "      <td>Санкт-Петербург</td>\n",
       "      <td>21178.0</td>\n",
       "      <td>1281.0</td>\n",
       "      <td>2.0</td>\n",
       "      <td>283.0</td>\n",
       "      <td>3.0</td>\n",
       "      <td>22.0</td>\n",
       "      <td>NaN</td>\n",
       "    </tr>\n",
       "    <tr>\n",
       "      <th>11436</th>\n",
       "      <td>4</td>\n",
       "      <td>24000000.0</td>\n",
       "      <td>316.3</td>\n",
       "      <td>2015-03-25T00:00:00</td>\n",
       "      <td>8</td>\n",
       "      <td>2.65</td>\n",
       "      <td>5.0</td>\n",
       "      <td>187.0</td>\n",
       "      <td>5</td>\n",
       "      <td>False</td>\n",
       "      <td>...</td>\n",
       "      <td>NaN</td>\n",
       "      <td>0.0</td>\n",
       "      <td>Санкт-Петербург</td>\n",
       "      <td>24555.0</td>\n",
       "      <td>5129.0</td>\n",
       "      <td>0.0</td>\n",
       "      <td>NaN</td>\n",
       "      <td>1.0</td>\n",
       "      <td>934.0</td>\n",
       "      <td>542.0</td>\n",
       "    </tr>\n",
       "    <tr>\n",
       "      <th>155</th>\n",
       "      <td>8</td>\n",
       "      <td>96000000.0</td>\n",
       "      <td>317.0</td>\n",
       "      <td>2017-07-07T00:00:00</td>\n",
       "      <td>4</td>\n",
       "      <td>3.50</td>\n",
       "      <td>3.0</td>\n",
       "      <td>183.0</td>\n",
       "      <td>3</td>\n",
       "      <td>False</td>\n",
       "      <td>...</td>\n",
       "      <td>NaN</td>\n",
       "      <td>1.0</td>\n",
       "      <td>Санкт-Петербург</td>\n",
       "      <td>22673.0</td>\n",
       "      <td>1771.0</td>\n",
       "      <td>2.0</td>\n",
       "      <td>508.0</td>\n",
       "      <td>3.0</td>\n",
       "      <td>366.0</td>\n",
       "      <td>62.0</td>\n",
       "    </tr>\n",
       "    <tr>\n",
       "      <th>7674</th>\n",
       "      <td>20</td>\n",
       "      <td>131000000.0</td>\n",
       "      <td>380.0</td>\n",
       "      <td>2016-09-23T00:00:00</td>\n",
       "      <td>5</td>\n",
       "      <td>3.90</td>\n",
       "      <td>6.0</td>\n",
       "      <td>150.0</td>\n",
       "      <td>4</td>\n",
       "      <td>False</td>\n",
       "      <td>...</td>\n",
       "      <td>NaN</td>\n",
       "      <td>1.0</td>\n",
       "      <td>Санкт-Петербург</td>\n",
       "      <td>25801.0</td>\n",
       "      <td>4504.0</td>\n",
       "      <td>2.0</td>\n",
       "      <td>161.0</td>\n",
       "      <td>1.0</td>\n",
       "      <td>635.0</td>\n",
       "      <td>901.0</td>\n",
       "    </tr>\n",
       "    <tr>\n",
       "      <th>12971</th>\n",
       "      <td>19</td>\n",
       "      <td>763000000.0</td>\n",
       "      <td>400.0</td>\n",
       "      <td>2017-09-30T00:00:00</td>\n",
       "      <td>7</td>\n",
       "      <td>2.65</td>\n",
       "      <td>10.0</td>\n",
       "      <td>250.0</td>\n",
       "      <td>10</td>\n",
       "      <td>False</td>\n",
       "      <td>...</td>\n",
       "      <td>NaN</td>\n",
       "      <td>2.0</td>\n",
       "      <td>Санкт-Петербург</td>\n",
       "      <td>25108.0</td>\n",
       "      <td>3956.0</td>\n",
       "      <td>1.0</td>\n",
       "      <td>530.0</td>\n",
       "      <td>3.0</td>\n",
       "      <td>756.0</td>\n",
       "      <td>33.0</td>\n",
       "    </tr>\n",
       "  </tbody>\n",
       "</table>\n",
       "<p>807 rows × 22 columns</p>\n",
       "</div>"
      ],
      "text/plain": [
       "       total_images   last_price  total_area first_day_exposition  rooms  \\\n",
       "19904             4    2400000.0        12.0  2017-07-19T00:00:00      1   \n",
       "19807             0    3800000.0        13.0  2018-07-04T00:00:00      1   \n",
       "8886             10    2450000.0        15.5  2018-08-22T00:00:00      0   \n",
       "9412              5    2100000.0        16.0  2017-12-10T00:00:00      0   \n",
       "716               5    1500000.0        17.0  2017-06-07T00:00:00      0   \n",
       "...             ...          ...         ...                  ...    ...   \n",
       "5631             14   99000000.0       280.0  2018-01-19T00:00:00      3   \n",
       "11436             4   24000000.0       316.3  2015-03-25T00:00:00      8   \n",
       "155               8   96000000.0       317.0  2017-07-07T00:00:00      4   \n",
       "7674             20  131000000.0       380.0  2016-09-23T00:00:00      5   \n",
       "12971            19  763000000.0       400.0  2017-09-30T00:00:00      7   \n",
       "\n",
       "       ceiling_height  floors_total  living_area  floor  is_apartment  ...  \\\n",
       "19904            2.55           5.0         10.0      2         False  ...   \n",
       "19807            2.65           5.0         10.0      3         False  ...   \n",
       "8886             2.65           5.0         10.0      2         False  ...   \n",
       "9412             2.65           6.0         13.0      1         False  ...   \n",
       "716              2.70           9.0         12.0      1         False  ...   \n",
       "...               ...           ...          ...    ...           ...  ...   \n",
       "5631             2.65           4.0        160.0      4         False  ...   \n",
       "11436            2.65           5.0        187.0      5         False  ...   \n",
       "155              3.50           3.0        183.0      3         False  ...   \n",
       "7674             3.90           6.0        150.0      4         False  ...   \n",
       "12971            2.65          10.0        250.0     10         False  ...   \n",
       "\n",
       "       kitchen_area  balcony    locality_name  airports_nearest  \\\n",
       "19904           NaN      NaN  Санкт-Петербург           21314.0   \n",
       "19807           NaN      NaN  Санкт-Петербург           21302.0   \n",
       "8886            NaN      NaN  Санкт-Петербург           24326.0   \n",
       "9412            NaN      NaN  Санкт-Петербург           20735.0   \n",
       "716             NaN      0.0   посёлок Шушары           18654.0   \n",
       "...             ...      ...              ...               ...   \n",
       "5631            NaN      NaN  Санкт-Петербург           21178.0   \n",
       "11436           NaN      0.0  Санкт-Петербург           24555.0   \n",
       "155             NaN      1.0  Санкт-Петербург           22673.0   \n",
       "7674            NaN      1.0  Санкт-Петербург           25801.0   \n",
       "12971           NaN      2.0  Санкт-Петербург           25108.0   \n",
       "\n",
       "      cityCenters_nearest  parks_around3000  parks_nearest  ponds_around3000  \\\n",
       "19904               964.0               1.0          886.0               2.0   \n",
       "19807              1242.0               1.0          592.0               3.0   \n",
       "8886               4589.0               0.0            NaN               1.0   \n",
       "9412               2111.0               2.0          228.0               3.0   \n",
       "716               29846.0               0.0            NaN               0.0   \n",
       "...                   ...               ...            ...               ...   \n",
       "5631               1281.0               2.0          283.0               3.0   \n",
       "11436              5129.0               0.0            NaN               1.0   \n",
       "155                1771.0               2.0          508.0               3.0   \n",
       "7674               4504.0               2.0          161.0               1.0   \n",
       "12971              3956.0               1.0          530.0               3.0   \n",
       "\n",
       "       ponds_nearest  days_exposition  \n",
       "19904           45.0            200.0  \n",
       "19807           27.0              9.0  \n",
       "8886           446.0             27.0  \n",
       "9412            72.0              3.0  \n",
       "716              NaN             40.0  \n",
       "...              ...              ...  \n",
       "5631            22.0              NaN  \n",
       "11436          934.0            542.0  \n",
       "155            366.0             62.0  \n",
       "7674           635.0            901.0  \n",
       "12971          756.0             33.0  \n",
       "\n",
       "[807 rows x 22 columns]"
      ]
     },
     "metadata": {},
     "output_type": "display_data"
    }
   ],
   "source": [
    "## Колонка kitchen_area\n",
    "\n",
    "# Посмотрим выборку по квартирам, где пропущена площадь кухни\n",
    "\n",
    "display(data.loc[data['kitchen_area'].isna()])"
   ]
  },
  {
   "cell_type": "markdown",
   "id": "693f9dff",
   "metadata": {},
   "source": [
    "<div class=\"alert alert-info\">\n",
    "\n",
    "В полученной таблице довольно большой разброс по площади всей квартиры - встречается и 20, и 60 м.\n",
    "Поэтому нельзя сделать вывод, что кухни однозначно нет, например, из-за слишком маленькой площади квартиры.\n",
    "Кухня может не выделяться отдельно, если квартира имеет планировку студии, либо кухня может быть в общем пользовании.\n",
    "Поэтому пропуски можно оставить."
   ]
  },
  {
   "cell_type": "code",
   "execution_count": 22,
   "id": "7e8b00dc",
   "metadata": {},
   "outputs": [
    {
     "data": {
      "text/plain": [
       "array([0., 1., 2., 3., 5., 4.])"
      ]
     },
     "execution_count": 22,
     "metadata": {},
     "output_type": "execute_result"
    }
   ],
   "source": [
    "## Колонка balcony\n",
    "\n",
    "# Логично предположить, что пропущенные значения в этой колонке означают, что балкона нет.\n",
    "# Заменим пропуски числом 0 и удостоверимся в отсутствии пропусков.\n",
    "\n",
    "data['balcony'].fillna(0, inplace=True)\n",
    "data['balcony'].unique()"
   ]
  },
  {
   "cell_type": "code",
   "execution_count": 23,
   "id": "946baa0a",
   "metadata": {},
   "outputs": [
    {
     "data": {
      "text/plain": [
       "23"
      ]
     },
     "execution_count": 23,
     "metadata": {},
     "output_type": "execute_result"
    }
   ],
   "source": [
    "## Колонка locality_name\n",
    "\n",
    "# Учтем, что расстояние от Дворцовой площади Питера до его самой ближайшей границы на востоке (использовали ст.Ржевка) 10.2км.\n",
    "# Посмотрим, сколько квартир с пропусками в этой колонке находятся в пределах 10 км.\n",
    "\n",
    "data.loc[(data['locality_name'].isna())&(data['cityCenters_nearest'] < 10000), 'total_area'].count()"
   ]
  },
  {
   "cell_type": "code",
   "execution_count": 24,
   "id": "07bc0173",
   "metadata": {},
   "outputs": [
    {
     "data": {
      "text/plain": [
       "0"
      ]
     },
     "execution_count": 24,
     "metadata": {},
     "output_type": "execute_result"
    }
   ],
   "source": [
    "## Колонка locality_name\n",
    "\n",
    "# В отсортированных колонках пропуски населенного пункта заполним Санкт-Петербургом.\n",
    "# Остальные 24 строки с пропущенными значениями удалим и удостоверимся в отсутствии пропусков.\n",
    "\n",
    "\n",
    "data.loc[(data['locality_name'].isna())&(data['cityCenters_nearest'] < 10000), 'total_area'] = 0\n",
    "data['locality_name'].fillna('Санкт -Петербург', inplace=True)\n",
    "\n",
    "data['locality_name'].dropna(inplace=True)\n",
    "data['locality_name'].isna().sum()"
   ]
  },
  {
   "cell_type": "code",
   "execution_count": 25,
   "id": "27bdf46e",
   "metadata": {},
   "outputs": [
    {
     "data": {
      "text/plain": [
       "0"
      ]
     },
     "execution_count": 25,
     "metadata": {},
     "output_type": "execute_result"
    }
   ],
   "source": [
    "## Колонки parks_around и ponds_around\n",
    "\n",
    "# Колонки возвращают кол-во парков и водоемов вблтзи дома. \n",
    "# Пропуски с высокой долей вероятности говорят о том, что рядом с домом парка или водоема нет.\n",
    "# Заменим пропуски в этих колонках на 0 и удостоверимся в отсутствии пропусков.\n",
    "\n",
    "data['parks_around3000'].fillna(0, inplace=True)\n",
    "data['ponds_around3000'].fillna(0, inplace=True)\n",
    "\n",
    "data['parks_around3000'].isna().sum()\n",
    "data['ponds_around3000'].isna().sum()"
   ]
  },
  {
   "cell_type": "markdown",
   "id": "74c02ad7",
   "metadata": {},
   "source": [
    "<div class=\"alert alert-info\">\n",
    "\n",
    "Оставшиеся колонки, описывающе инфраструктуру и расположение недвижимости также оставим без изменений, так как заполнить пропуски корректным значением не получится."
   ]
  },
  {
   "cell_type": "markdown",
   "id": "7aa21e32",
   "metadata": {},
   "source": [
    "### Изменение типов данных"
   ]
  },
  {
   "cell_type": "code",
   "execution_count": 26,
   "id": "d27b32eb",
   "metadata": {},
   "outputs": [
    {
     "name": "stdout",
     "output_type": "stream",
     "text": [
      "19904   2017-07-19\n",
      "19807   2018-07-04\n",
      "19642   2018-07-29\n",
      "8886    2018-08-22\n",
      "9412    2017-12-10\n",
      "Name: first_day_exposition, dtype: datetime64[ns]\n"
     ]
    }
   ],
   "source": [
    "## Колонка first_day_exposition\n",
    "\n",
    "# Заменим значения колонки на datetime, это необходимо для дальнейшей работы с датами\n",
    "# 2017-07-19T00:00:00\n",
    "\n",
    "data['first_day_exposition'] = pd.to_datetime(data['first_day_exposition'], format='%Y-%m-%dT%H:%M:%S')\n",
    "print(data['first_day_exposition'].head())"
   ]
  },
  {
   "cell_type": "code",
   "execution_count": 27,
   "id": "f33e3716",
   "metadata": {},
   "outputs": [
    {
     "name": "stdout",
     "output_type": "stream",
     "text": [
      "19904      2400\n",
      "19807      3800\n",
      "19642      1190\n",
      "8886       2450\n",
      "9412       2100\n",
      "          ...  \n",
      "4237      50000\n",
      "5358      65000\n",
      "15651    300000\n",
      "12859    140000\n",
      "19540    420000\n",
      "Name: last_price, Length: 21763, dtype: int32\n"
     ]
    }
   ],
   "source": [
    "## Колонка last_price\n",
    "\n",
    "# Переведем цену в тысячи (т.к. минимальное значение в тысячах) и целочисленный формат для последующей работы с колонкой \n",
    "data['last_price'] = data['last_price']/1000\n",
    "data['last_price'] = data['last_price'].astype('int')\n",
    "\n",
    "print(data['last_price'])    "
   ]
  },
  {
   "cell_type": "code",
   "execution_count": 28,
   "id": "a2d33330",
   "metadata": {},
   "outputs": [
    {
     "name": "stdout",
     "output_type": "stream",
     "text": [
      "19904    0\n",
      "19807    0\n",
      "19642    0\n",
      "8886     0\n",
      "9412     0\n",
      "        ..\n",
      "4237     0\n",
      "5358     0\n",
      "15651    0\n",
      "12859    1\n",
      "19540    0\n",
      "Name: balcony, Length: 21763, dtype: int32\n"
     ]
    }
   ],
   "source": [
    "## Колонка balcony\n",
    "\n",
    "# Преобразуем кол-во балконов в целочисленный формат и проверим измененную колонку \n",
    "\n",
    "data['balcony'] = data['balcony'].astype('int')\n",
    "print(data['balcony'])"
   ]
  },
  {
   "cell_type": "markdown",
   "id": "34ad266f",
   "metadata": {},
   "source": [
    "### Дубликаты "
   ]
  },
  {
   "cell_type": "code",
   "execution_count": 30,
   "id": "44f1d9ac",
   "metadata": {},
   "outputs": [
    {
     "data": {
      "text/plain": [
       "0"
      ]
     },
     "execution_count": 30,
     "metadata": {},
     "output_type": "execute_result"
    }
   ],
   "source": [
    "## Проверим наличие полных дубликатов в датасете\n",
    "\n",
    "data.duplicated().sum()"
   ]
  },
  {
   "cell_type": "code",
   "execution_count": 31,
   "id": "3b496b42",
   "metadata": {},
   "outputs": [
    {
     "data": {
      "text/plain": [
       "array(['Бокситогорск', 'Волосово', 'Волхов', 'Всеволожск', 'Выборг',\n",
       "       'Высоцк', 'Гатчина', 'Зеленогорск', 'Ивангород', 'Каменногорск',\n",
       "       'Кингисепп', 'Кириши', 'Кировск', 'Колпино', 'Коммунар',\n",
       "       'Красное Село', 'Кронштадт', 'Кудрово', 'Лодейное Поле',\n",
       "       'Ломоносов', 'Луга', 'Любань', 'Мурино', 'Никольское',\n",
       "       'Новая Ладога', 'Отрадное', 'Павловск', 'Петергоф', 'Пикалёво',\n",
       "       'Подпорожье', 'Приморск', 'Приозерск', 'Пушкин',\n",
       "       'Санкт -Петербург', 'Санкт-Петербург', 'Светогорск', 'Сертолово',\n",
       "       'Сестрорецк', 'Сланцы', 'Сосновый Бор', 'Сясьстрой', 'Тихвин',\n",
       "       'Тосно', 'Шлиссельбург', 'городской поселок Большая Ижора',\n",
       "       'городской поселок Янино-1', 'городской посёлок Будогощь',\n",
       "       'городской посёлок Виллози', 'городской посёлок Лесогорский',\n",
       "       'городской посёлок Мга', 'городской посёлок Назия',\n",
       "       'городской посёлок Новоселье', 'городской посёлок Павлово',\n",
       "       'городской посёлок Рощино', 'городской посёлок Советский',\n",
       "       'городской посёлок Фёдоровское', 'городской посёлок Янино-1',\n",
       "       'деревня Агалатово', 'деревня Аро', 'деревня Батово',\n",
       "       'деревня Бегуницы', 'деревня Белогорка', 'деревня Большая Вруда',\n",
       "       'деревня Большая Пустомержа', 'деревня Большие Колпаны',\n",
       "       'деревня Большое Рейзино', 'деревня Большой Сабск', 'деревня Бор',\n",
       "       'деревня Борисова Грива', 'деревня Ваганово', 'деревня Вартемяги',\n",
       "       'деревня Выскатка', 'деревня Гарболово', 'деревня Глинка',\n",
       "       'деревня Горбунки', 'деревня Гостилицы', 'деревня Заклинье',\n",
       "       'деревня Заневка', 'деревня Зимитицы', 'деревня Извара',\n",
       "       'деревня Калитино', 'деревня Кальтино', 'деревня Камышовка',\n",
       "       'деревня Каськово', 'деревня Келози', 'деревня Кипень',\n",
       "       'деревня Кисельня', 'деревня Колтуши', 'деревня Коркино',\n",
       "       'деревня Котлы', 'деревня Кривко', 'деревня Кудрово',\n",
       "       'деревня Кузьмолово', 'деревня Курковицы', 'деревня Куровицы',\n",
       "       'деревня Куттузи', 'деревня Лаголово', 'деревня Лампово',\n",
       "       'деревня Лесколово', 'деревня Лопухинка', 'деревня Лупполово',\n",
       "       'деревня Малая Романовка', 'деревня Малое Верево',\n",
       "       'деревня Малое Карлино', 'деревня Малые Колпаны',\n",
       "       'деревня Мануйлово', 'деревня Меньково', 'деревня Мины',\n",
       "       'деревня Мистолово', 'деревня Ненимяки', 'деревня Нижние Осельки',\n",
       "       'деревня Низино', 'деревня Новое Девяткино', 'деревня Новолисино',\n",
       "       'деревня Нурма', 'деревня Оржицы', 'деревня Парицы',\n",
       "       'деревня Пельгора', 'деревня Пеники', 'деревня Пижма',\n",
       "       'деревня Пикколово', 'деревня Пудомяги', 'деревня Пустынка',\n",
       "       'деревня Рабитицы', 'деревня Разбегаево', 'деревня Разметелево',\n",
       "       'деревня Рапполово', 'деревня Реброво', 'деревня Сижно',\n",
       "       'деревня Снегирёвка', 'деревня Старая', 'деревня Старая Пустошь',\n",
       "       'деревня Старое Хинколово', 'деревня Старополье',\n",
       "       'деревня Старосиверская', 'деревня Старые Бегуницы',\n",
       "       'деревня Суоранда', 'деревня Сяськелево', 'деревня Терпилицы',\n",
       "       'деревня Тихковицы', 'деревня Тойворово', 'деревня Торосово',\n",
       "       'деревня Торошковичи', 'деревня Трубников Бор',\n",
       "       'деревня Фалилеево', 'деревня Фёдоровское', 'деревня Хапо-Ое',\n",
       "       'деревня Чудской Бор', 'деревня Шпаньково', 'деревня Щеглово',\n",
       "       'деревня Юкки', 'деревня Ялгино', 'деревня Яльгелево',\n",
       "       'деревня Ям-Тесово', 'коттеджный поселок Кивеннапа Север',\n",
       "       'коттеджный поселок Счастье', 'коттеджный посёлок Лесное',\n",
       "       'поселок Аннино', 'поселок Барышево', 'поселок Бугры',\n",
       "       'поселок Возрождение', 'поселок Войсковицы', 'поселок Володарское',\n",
       "       'поселок Гаврилово', 'поселок Гарболово', 'поселок Гладкое',\n",
       "       'поселок Глажево', 'поселок Глебычево', 'поселок Гончарово',\n",
       "       'поселок Громово', 'поселок Дружноселье', 'поселок Елизаветино',\n",
       "       'поселок Жилгородок', 'поселок Жилпосёлок', 'поселок Житково',\n",
       "       'поселок Заводской', 'поселок Запорожское', 'поселок Зимитицы',\n",
       "       'поселок Ильичёво', 'поселок Калитино', 'поселок Каложицы',\n",
       "       'поселок Кингисеппский', 'поселок Кирпичное', 'поселок Кобралово',\n",
       "       'поселок Кобринское', 'поселок Коммунары', 'поселок Коробицыно',\n",
       "       'поселок Котельский', 'поселок Красная Долина', 'поселок Лесное',\n",
       "       'поселок Лисий Нос', 'поселок Лукаши', 'поселок Любань',\n",
       "       'поселок Мельниково', 'поселок Мичуринское', 'поселок Молодцово',\n",
       "       'поселок Мурино', 'поселок Новый Свет', 'поселок Новый Учхоз',\n",
       "       'поселок Оредеж', 'поселок Пансионат Зелёный Бор',\n",
       "       'поселок Первомайское', 'поселок Перово', 'поселок Петровское',\n",
       "       'поселок Победа', 'поселок Поляны', 'поселок Почап',\n",
       "       'поселок Починок', 'поселок Пушное', 'поселок Рабитицы',\n",
       "       'поселок Романовка', 'поселок Ромашки', 'поселок Рябово',\n",
       "       'поселок Селезнёво', 'поселок Сельцо', 'поселок Семиозерье',\n",
       "       'поселок Семрино', 'поселок Серебрянский', 'поселок Совхозный',\n",
       "       'поселок Старая Малукса', 'поселок Стеклянный', 'поселок Сумино',\n",
       "       'поселок Суходолье', 'поселок Тельмана', 'поселок Терволово',\n",
       "       'поселок Торковичи', 'поселок Тёсово-4', 'поселок Углово',\n",
       "       'поселок Усть-Луга', 'поселок Ушаки', 'поселок Цвелодубово',\n",
       "       'поселок Цвылёво', 'поселок городского типа Большая Ижора',\n",
       "       'поселок городского типа Вырица',\n",
       "       'поселок городского типа Дружная Горка',\n",
       "       'поселок городского типа Дубровка',\n",
       "       'поселок городского типа Ефимовский',\n",
       "       'поселок городского типа Кондратьево',\n",
       "       'поселок городского типа Красный Бор',\n",
       "       'поселок городского типа Кузьмоловский',\n",
       "       'поселок городского типа Лебяжье',\n",
       "       'поселок городского типа Лесогорский',\n",
       "       'поселок городского типа Назия',\n",
       "       'поселок городского типа Никольский',\n",
       "       'поселок городского типа Приладожский',\n",
       "       'поселок городского типа Рахья', 'поселок городского типа Рощино',\n",
       "       'поселок городского типа Рябово',\n",
       "       'поселок городского типа Синявино',\n",
       "       'поселок городского типа Советский',\n",
       "       'поселок городского типа Токсово',\n",
       "       'поселок городского типа Форносово',\n",
       "       'поселок городского типа имени Свердлова',\n",
       "       'поселок станции Вещево', 'поселок станции Корнево',\n",
       "       'поселок станции Приветнинское', 'посёлок Александровская',\n",
       "       'посёлок Алексеевка', 'посёлок Аннино', 'посёлок Белоостров',\n",
       "       'посёлок Бугры', 'посёлок Возрождение', 'посёлок Войскорово',\n",
       "       'посёлок Высокоключевой', 'посёлок Гаврилово',\n",
       "       'посёлок Дзержинского', 'посёлок Жилгородок', 'посёлок Ильичёво',\n",
       "       'посёлок Кикерино', 'посёлок Кобралово', 'посёлок Коробицыно',\n",
       "       'посёлок Ленинское', 'посёлок Лисий Нос', 'посёлок Мельниково',\n",
       "       'посёлок Металлострой', 'посёлок Мичуринское',\n",
       "       'посёлок Молодёжное', 'посёлок Мурино', 'посёлок Мыза-Ивановка',\n",
       "       'посёлок Новогорелово', 'посёлок Новый Свет',\n",
       "       'посёлок Пансионат Зелёный Бор', 'посёлок Парголово',\n",
       "       'посёлок Перово', 'посёлок Песочный', 'посёлок Петровское',\n",
       "       'посёлок Платформа 69-й километр', 'посёлок Плодовое',\n",
       "       'посёлок Победа', 'посёлок Поляны', 'посёлок Понтонный',\n",
       "       'посёлок Пригородный', 'посёлок Пудость', 'посёлок Репино',\n",
       "       'посёлок Ропша', 'посёлок Сапёрное', 'посёлок Сапёрный',\n",
       "       'посёлок Сосново', 'посёлок Старая Малукса', 'посёлок Стеклянный',\n",
       "       'посёлок Стрельна', 'посёлок Суйда', 'посёлок Сумино',\n",
       "       'посёлок Тельмана', 'посёлок Терволово', 'посёлок Торфяное',\n",
       "       'посёлок Усть-Ижора', 'посёлок Усть-Луга',\n",
       "       'посёлок Форт Красная Горка', 'посёлок Шугозеро', 'посёлок Шушары',\n",
       "       'посёлок Щеглово', 'посёлок городского типа Важины',\n",
       "       'посёлок городского типа Вознесенье',\n",
       "       'посёлок городского типа Вырица',\n",
       "       'посёлок городского типа Красный Бор',\n",
       "       'посёлок городского типа Кузнечное',\n",
       "       'посёлок городского типа Кузьмоловский',\n",
       "       'посёлок городского типа Лебяжье', 'посёлок городского типа Мга',\n",
       "       'посёлок городского типа Павлово',\n",
       "       'посёлок городского типа Рощино', 'посёлок городского типа Рябово',\n",
       "       'посёлок городского типа Сиверский',\n",
       "       'посёлок городского типа Тайцы', 'посёлок городского типа Токсово',\n",
       "       'посёлок городского типа Ульяновка',\n",
       "       'посёлок городского типа Форносово',\n",
       "       'посёлок городского типа имени Морозова',\n",
       "       'посёлок городского типа имени Свердлова',\n",
       "       'посёлок при железнодорожной станции Вещево',\n",
       "       'посёлок при железнодорожной станции Приветнинское',\n",
       "       'посёлок станции Громово', 'посёлок станции Свирь',\n",
       "       'садоводческое некоммерческое товарищество Лесная Поляна',\n",
       "       'садовое товарищество Новая Ропша',\n",
       "       'садовое товарищество Приладожский', 'садовое товарищество Рахья',\n",
       "       'садовое товарищество Садко', 'село Копорье', 'село Никольское',\n",
       "       'село Павлово', 'село Паша', 'село Путилово', 'село Рождествено',\n",
       "       'село Русско-Высоцкое', 'село Старая Ладога', 'село Шум'],\n",
       "      dtype=object)"
      ]
     },
     "execution_count": 31,
     "metadata": {},
     "output_type": "execute_result"
    }
   ],
   "source": [
    "## Колонка locality_name\n",
    "\n",
    "# Выведем и проанализиируем унимкальные значения\n",
    "\n",
    "data = data.sort_values(by='locality_name')\n",
    "data['locality_name'].unique()"
   ]
  },
  {
   "cell_type": "code",
   "execution_count": 32,
   "id": "9bd9ec85",
   "metadata": {},
   "outputs": [],
   "source": [
    "## Колонка locality_name\n",
    "\n",
    "# Создадим 2 функции:\n",
    "# Первая приведет 'посёлок' к единообразному написанию (через ё)\n",
    "# Вторая заменит значения 'городской посёлок' на 'посёлок городского типа'\n",
    "\n",
    "def village_change(row):\n",
    "    village = row['locality_name']\n",
    "    wrong_village = 'поселок'\n",
    "    \n",
    "    if wrong_village in village:\n",
    "        return 'посёлок'\n",
    "    if wrong_village not in village:\n",
    "        return village\n",
    "\n",
    "def town_change(row):\n",
    "    town = row['locality_name']\n",
    "    wrong_town = 'городской посёлок'\n",
    "        \n",
    "    if wrong_town in town:\n",
    "        return 'посёлок городского типа'\n",
    "    if wrong_town not in town:\n",
    "        return town\n",
    "    \n",
    "# Последовательно применим функции\n",
    "\n",
    "data['locality_name'] = data.apply(village_change, axis=1)  \n",
    "data['locality_name'] = data.apply(town_change, axis=1)"
   ]
  },
  {
   "cell_type": "code",
   "execution_count": 33,
   "id": "7d0ef1d4",
   "metadata": {},
   "outputs": [
    {
     "data": {
      "text/plain": [
       "array(['Бокситогорск', 'Волосово', 'Волхов', 'Всеволожск', 'Выборг',\n",
       "       'Высоцк', 'Гатчина', 'Зеленогорск', 'Ивангород', 'Каменногорск',\n",
       "       'Кингисепп', 'Кириши', 'Кировск', 'Колпино', 'Коммунар',\n",
       "       'Красное Село', 'Кронштадт', 'Кудрово', 'Лодейное Поле',\n",
       "       'Ломоносов', 'Луга', 'Любань', 'Мурино', 'Никольское',\n",
       "       'Новая Ладога', 'Отрадное', 'Павловск', 'Петергоф', 'Пикалёво',\n",
       "       'Подпорожье', 'Приморск', 'Приозерск', 'Пушкин',\n",
       "       'Санкт -Петербург', 'Санкт-Петербург', 'Светогорск', 'Сертолово',\n",
       "       'Сестрорецк', 'Сланцы', 'Сосновый Бор', 'Сясьстрой', 'Тихвин',\n",
       "       'Тосно', 'Шлиссельбург', 'деревня Агалатово', 'деревня Аро',\n",
       "       'деревня Батово', 'деревня Бегуницы', 'деревня Белогорка',\n",
       "       'деревня Большая Вруда', 'деревня Большая Пустомержа',\n",
       "       'деревня Большие Колпаны', 'деревня Большое Рейзино',\n",
       "       'деревня Большой Сабск', 'деревня Бор', 'деревня Борисова Грива',\n",
       "       'деревня Ваганово', 'деревня Вартемяги', 'деревня Выскатка',\n",
       "       'деревня Гарболово', 'деревня Глинка', 'деревня Горбунки',\n",
       "       'деревня Гостилицы', 'деревня Заклинье', 'деревня Заневка',\n",
       "       'деревня Зимитицы', 'деревня Извара', 'деревня Калитино',\n",
       "       'деревня Кальтино', 'деревня Камышовка', 'деревня Каськово',\n",
       "       'деревня Келози', 'деревня Кипень', 'деревня Кисельня',\n",
       "       'деревня Колтуши', 'деревня Коркино', 'деревня Котлы',\n",
       "       'деревня Кривко', 'деревня Кудрово', 'деревня Кузьмолово',\n",
       "       'деревня Курковицы', 'деревня Куровицы', 'деревня Куттузи',\n",
       "       'деревня Лаголово', 'деревня Лампово', 'деревня Лесколово',\n",
       "       'деревня Лопухинка', 'деревня Лупполово',\n",
       "       'деревня Малая Романовка', 'деревня Малое Верево',\n",
       "       'деревня Малое Карлино', 'деревня Малые Колпаны',\n",
       "       'деревня Мануйлово', 'деревня Меньково', 'деревня Мины',\n",
       "       'деревня Мистолово', 'деревня Ненимяки', 'деревня Нижние Осельки',\n",
       "       'деревня Низино', 'деревня Новое Девяткино', 'деревня Новолисино',\n",
       "       'деревня Нурма', 'деревня Оржицы', 'деревня Парицы',\n",
       "       'деревня Пельгора', 'деревня Пеники', 'деревня Пижма',\n",
       "       'деревня Пикколово', 'деревня Пудомяги', 'деревня Пустынка',\n",
       "       'деревня Рабитицы', 'деревня Разбегаево', 'деревня Разметелево',\n",
       "       'деревня Рапполово', 'деревня Реброво', 'деревня Сижно',\n",
       "       'деревня Снегирёвка', 'деревня Старая', 'деревня Старая Пустошь',\n",
       "       'деревня Старое Хинколово', 'деревня Старополье',\n",
       "       'деревня Старосиверская', 'деревня Старые Бегуницы',\n",
       "       'деревня Суоранда', 'деревня Сяськелево', 'деревня Терпилицы',\n",
       "       'деревня Тихковицы', 'деревня Тойворово', 'деревня Торосово',\n",
       "       'деревня Торошковичи', 'деревня Трубников Бор',\n",
       "       'деревня Фалилеево', 'деревня Фёдоровское', 'деревня Хапо-Ое',\n",
       "       'деревня Чудской Бор', 'деревня Шпаньково', 'деревня Щеглово',\n",
       "       'деревня Юкки', 'деревня Ялгино', 'деревня Яльгелево',\n",
       "       'деревня Ям-Тесово', 'коттеджный посёлок Лесное', 'посёлок',\n",
       "       'посёлок Александровская', 'посёлок Алексеевка', 'посёлок Аннино',\n",
       "       'посёлок Белоостров', 'посёлок Бугры', 'посёлок Возрождение',\n",
       "       'посёлок Войскорово', 'посёлок Высокоключевой',\n",
       "       'посёлок Гаврилово', 'посёлок Дзержинского', 'посёлок Жилгородок',\n",
       "       'посёлок Ильичёво', 'посёлок Кикерино', 'посёлок Кобралово',\n",
       "       'посёлок Коробицыно', 'посёлок Ленинское', 'посёлок Лисий Нос',\n",
       "       'посёлок Мельниково', 'посёлок Металлострой',\n",
       "       'посёлок Мичуринское', 'посёлок Молодёжное', 'посёлок Мурино',\n",
       "       'посёлок Мыза-Ивановка', 'посёлок Новогорелово',\n",
       "       'посёлок Новый Свет', 'посёлок Пансионат Зелёный Бор',\n",
       "       'посёлок Парголово', 'посёлок Перово', 'посёлок Песочный',\n",
       "       'посёлок Петровское', 'посёлок Платформа 69-й километр',\n",
       "       'посёлок Плодовое', 'посёлок Победа', 'посёлок Поляны',\n",
       "       'посёлок Понтонный', 'посёлок Пригородный', 'посёлок Пудость',\n",
       "       'посёлок Репино', 'посёлок Ропша', 'посёлок Сапёрное',\n",
       "       'посёлок Сапёрный', 'посёлок Сосново', 'посёлок Старая Малукса',\n",
       "       'посёлок Стеклянный', 'посёлок Стрельна', 'посёлок Суйда',\n",
       "       'посёлок Сумино', 'посёлок Тельмана', 'посёлок Терволово',\n",
       "       'посёлок Торфяное', 'посёлок Усть-Ижора', 'посёлок Усть-Луга',\n",
       "       'посёлок Форт Красная Горка', 'посёлок Шугозеро', 'посёлок Шушары',\n",
       "       'посёлок Щеглово', 'посёлок городского типа',\n",
       "       'посёлок городского типа Важины',\n",
       "       'посёлок городского типа Вознесенье',\n",
       "       'посёлок городского типа Вырица',\n",
       "       'посёлок городского типа Красный Бор',\n",
       "       'посёлок городского типа Кузнечное',\n",
       "       'посёлок городского типа Кузьмоловский',\n",
       "       'посёлок городского типа Лебяжье', 'посёлок городского типа Мга',\n",
       "       'посёлок городского типа Павлово',\n",
       "       'посёлок городского типа Рощино', 'посёлок городского типа Рябово',\n",
       "       'посёлок городского типа Сиверский',\n",
       "       'посёлок городского типа Тайцы', 'посёлок городского типа Токсово',\n",
       "       'посёлок городского типа Ульяновка',\n",
       "       'посёлок городского типа Форносово',\n",
       "       'посёлок городского типа имени Морозова',\n",
       "       'посёлок городского типа имени Свердлова',\n",
       "       'посёлок при железнодорожной станции Вещево',\n",
       "       'посёлок при железнодорожной станции Приветнинское',\n",
       "       'посёлок станции Громово', 'посёлок станции Свирь',\n",
       "       'садоводческое некоммерческое товарищество Лесная Поляна',\n",
       "       'садовое товарищество Новая Ропша',\n",
       "       'садовое товарищество Приладожский', 'садовое товарищество Рахья',\n",
       "       'садовое товарищество Садко', 'село Копорье', 'село Никольское',\n",
       "       'село Павлово', 'село Паша', 'село Путилово', 'село Рождествено',\n",
       "       'село Русско-Высоцкое', 'село Старая Ладога', 'село Шум'],\n",
       "      dtype=object)"
      ]
     },
     "execution_count": 33,
     "metadata": {},
     "output_type": "execute_result"
    }
   ],
   "source": [
    "## Колонка locality_name\n",
    "\n",
    "# Выведем уникальные значения еще раз\n",
    "\n",
    "data = data.sort_values(by='locality_name')\n",
    "data['locality_name'].unique()"
   ]
  },
  {
   "cell_type": "code",
   "execution_count": 34,
   "id": "97f184cd",
   "metadata": {},
   "outputs": [],
   "source": [
    "## Колонка locality_name\n",
    "\n",
    "# Заменим значение посёлок Мурино на Мурино и деревню Кудрово на Кудрово\n",
    "\n",
    "data['locality_name'] = data['locality_name'].replace('посёлок Мурино', 'Мурино')\n",
    "data['locality_name'] = data['locality_name'].replace('деревня Кудрово', 'Кудрово')"
   ]
  },
  {
   "cell_type": "code",
   "execution_count": 35,
   "id": "75ef5bd9",
   "metadata": {},
   "outputs": [
    {
     "name": "stdout",
     "output_type": "stream",
     "text": [
      "<class 'pandas.core.frame.DataFrame'>\n",
      "Int64Index: 21763 entries, 5821 to 15459\n",
      "Data columns (total 22 columns):\n",
      " #   Column                Non-Null Count  Dtype         \n",
      "---  ------                --------------  -----         \n",
      " 0   total_images          21763 non-null  int64         \n",
      " 1   last_price            21763 non-null  int32         \n",
      " 2   total_area            21763 non-null  float64       \n",
      " 3   first_day_exposition  21763 non-null  datetime64[ns]\n",
      " 4   rooms                 21763 non-null  int64         \n",
      " 5   ceiling_height        21763 non-null  float64       \n",
      " 6   floors_total          21763 non-null  int32         \n",
      " 7   living_area           21763 non-null  float64       \n",
      " 8   floor                 21763 non-null  int64         \n",
      " 9   is_apartment          21763 non-null  bool          \n",
      " 10  studio                21763 non-null  bool          \n",
      " 11  open_plan             21763 non-null  bool          \n",
      " 12  kitchen_area          20956 non-null  float64       \n",
      " 13  balcony               21763 non-null  int32         \n",
      " 14  locality_name         21763 non-null  object        \n",
      " 15  airports_nearest      16857 non-null  float64       \n",
      " 16  cityCenters_nearest   16878 non-null  float64       \n",
      " 17  parks_around3000      21763 non-null  float64       \n",
      " 18  parks_nearest         7491 non-null   float64       \n",
      " 19  ponds_around3000      21763 non-null  float64       \n",
      " 20  ponds_nearest         8402 non-null   float64       \n",
      " 21  days_exposition       18786 non-null  float64       \n",
      "dtypes: bool(3), datetime64[ns](1), float64(11), int32(3), int64(3), object(1)\n",
      "memory usage: 3.1+ MB\n"
     ]
    }
   ],
   "source": [
    "# Проверим полученные данные еще раз\n",
    "\n",
    "data.info()"
   ]
  },
  {
   "cell_type": "markdown",
   "id": "9a0e6ef8",
   "metadata": {},
   "source": [
    "## Создание новых колонок"
   ]
  },
  {
   "cell_type": "markdown",
   "id": "08131e87",
   "metadata": {},
   "source": [
    "<div class=\"alert alert-warning\">\n",
    "\n",
    "Добавим в датасет новые колонки:\n",
    "\n",
    " - цена одного квадратного метра;\n",
    " - день недели публикации объявления (0 — понедельник, 1 — вторник и так далее);\n",
    " - месяц публикации объявления;\n",
    " - год публикации объявления;\n",
    " - тип этажа квартиры (значения — «‎первый», «последний», «другой»);\n",
    " - расстояние до центра города в километрах (переведите из м в км и округлите до целых значений)."
   ]
  },
  {
   "cell_type": "code",
   "execution_count": 36,
   "id": "c78d809b",
   "metadata": {},
   "outputs": [
    {
     "name": "stdout",
     "output_type": "stream",
     "text": [
      "5821     16.078431\n",
      "8779     17.222222\n",
      "19186    15.772358\n",
      "638      20.806794\n",
      "1761     16.112903\n",
      "           ...    \n",
      "22417    71.428571\n",
      "6816     52.060738\n",
      "4483     49.462366\n",
      "19176    36.666667\n",
      "15459    33.898305\n",
      "Name: price_square_meter, Length: 21763, dtype: float64\n"
     ]
    }
   ],
   "source": [
    "## Создание колонки price_square_meter\n",
    "\n",
    "# Делим цену квартиры на ее общую площадь и проверяем полученный результат\n",
    "# Цена была выражена в тысячах\n",
    "\n",
    "data['price_square_meter'] = data['last_price'] / data['total_area']\n",
    "print(data['price_square_meter'])"
   ]
  },
  {
   "cell_type": "code",
   "execution_count": 37,
   "id": "f4df301b",
   "metadata": {},
   "outputs": [
    {
     "data": {
      "text/plain": [
       "3    3972\n",
       "1    3887\n",
       "4    3674\n",
       "2    3636\n",
       "0    3347\n",
       "5    1729\n",
       "6    1518\n",
       "Name: day_exposition, dtype: int64"
      ]
     },
     "execution_count": 37,
     "metadata": {},
     "output_type": "execute_result"
    }
   ],
   "source": [
    "## Создание колонки day_exposition\n",
    "\n",
    "# Создадим цикл для вывода дня недели по каждой дате\n",
    "day_exposition = [] # список вернет индексацию дня недели\n",
    "for date in data['first_day_exposition']:\n",
    "    day_exposition.append(date.weekday())\n",
    "\n",
    "# Помещаем полученный список в новую колонку и проверяем полученные значения\n",
    "data['day_exposition'] = day_exposition    \n",
    "data['day_exposition'].value_counts()    "
   ]
  },
  {
   "cell_type": "code",
   "execution_count": 39,
   "id": "75dfbdd6",
   "metadata": {},
   "outputs": [
    {
     "data": {
      "text/plain": [
       "2     2374\n",
       "3     2353\n",
       "11    2253\n",
       "4     2220\n",
       "10    2021\n",
       "9     1887\n",
       "6     1617\n",
       "8     1608\n",
       "7     1541\n",
       "12    1371\n",
       "1     1323\n",
       "5     1195\n",
       "Name: month_exposition, dtype: int64"
      ]
     },
     "execution_count": 39,
     "metadata": {},
     "output_type": "execute_result"
    }
   ],
   "source": [
    "## Создание колонки month_exposition\n",
    "\n",
    "# Выводим месяц из колонки даты размещения объявления и помещаем в новую колонку; затем проверяем результат\n",
    "\n",
    "data['month_exposition'] = data['first_day_exposition'].dt.month\n",
    "data['month_exposition'].value_counts() "
   ]
  },
  {
   "cell_type": "code",
   "execution_count": 40,
   "id": "9fc23fb0",
   "metadata": {},
   "outputs": [
    {
     "data": {
      "text/plain": [
       "2017    7648\n",
       "2018    7515\n",
       "2019    2682\n",
       "2016    2667\n",
       "2015    1121\n",
       "2014     130\n",
       "Name: year_exposition, dtype: int64"
      ]
     },
     "execution_count": 40,
     "metadata": {},
     "output_type": "execute_result"
    }
   ],
   "source": [
    "## Создание колонки year_exposition\n",
    "\n",
    "# Выводим год из колонки даты размещения объявления и помещаем в новую колонку; затем проверяем результат\n",
    "\n",
    "data['year_exposition'] = data['first_day_exposition'].dt.year\n",
    "data['year_exposition'].value_counts()"
   ]
  },
  {
   "cell_type": "code",
   "execution_count": 41,
   "id": "4476f566",
   "metadata": {},
   "outputs": [
    {
     "data": {
      "text/html": [
       "<div>\n",
       "<style scoped>\n",
       "    .dataframe tbody tr th:only-of-type {\n",
       "        vertical-align: middle;\n",
       "    }\n",
       "\n",
       "    .dataframe tbody tr th {\n",
       "        vertical-align: top;\n",
       "    }\n",
       "\n",
       "    .dataframe thead th {\n",
       "        text-align: right;\n",
       "    }\n",
       "</style>\n",
       "<table border=\"1\" class=\"dataframe\">\n",
       "  <thead>\n",
       "    <tr style=\"text-align: right;\">\n",
       "      <th></th>\n",
       "      <th>total_images</th>\n",
       "      <th>last_price</th>\n",
       "      <th>total_area</th>\n",
       "      <th>first_day_exposition</th>\n",
       "      <th>rooms</th>\n",
       "      <th>ceiling_height</th>\n",
       "      <th>floors_total</th>\n",
       "      <th>living_area</th>\n",
       "      <th>floor</th>\n",
       "      <th>is_apartment</th>\n",
       "      <th>...</th>\n",
       "      <th>parks_nearest</th>\n",
       "      <th>ponds_around3000</th>\n",
       "      <th>ponds_nearest</th>\n",
       "      <th>days_exposition</th>\n",
       "      <th>price_square_meter</th>\n",
       "      <th>day_exposition</th>\n",
       "      <th>weekday</th>\n",
       "      <th>month_exposition</th>\n",
       "      <th>year_exposition</th>\n",
       "      <th>type_floor</th>\n",
       "    </tr>\n",
       "  </thead>\n",
       "  <tbody>\n",
       "    <tr>\n",
       "      <th>5821</th>\n",
       "      <td>7</td>\n",
       "      <td>820</td>\n",
       "      <td>51.0</td>\n",
       "      <td>2017-12-09</td>\n",
       "      <td>2</td>\n",
       "      <td>2.65</td>\n",
       "      <td>5</td>\n",
       "      <td>32.0</td>\n",
       "      <td>5</td>\n",
       "      <td>False</td>\n",
       "      <td>...</td>\n",
       "      <td>NaN</td>\n",
       "      <td>0.0</td>\n",
       "      <td>NaN</td>\n",
       "      <td>130.0</td>\n",
       "      <td>16.078431</td>\n",
       "      <td>5</td>\n",
       "      <td>сб</td>\n",
       "      <td>12</td>\n",
       "      <td>2017</td>\n",
       "      <td>последний</td>\n",
       "    </tr>\n",
       "    <tr>\n",
       "      <th>8779</th>\n",
       "      <td>9</td>\n",
       "      <td>620</td>\n",
       "      <td>36.0</td>\n",
       "      <td>2018-01-15</td>\n",
       "      <td>1</td>\n",
       "      <td>2.65</td>\n",
       "      <td>5</td>\n",
       "      <td>19.0</td>\n",
       "      <td>5</td>\n",
       "      <td>False</td>\n",
       "      <td>...</td>\n",
       "      <td>NaN</td>\n",
       "      <td>0.0</td>\n",
       "      <td>NaN</td>\n",
       "      <td>45.0</td>\n",
       "      <td>17.222222</td>\n",
       "      <td>0</td>\n",
       "      <td>пнд</td>\n",
       "      <td>1</td>\n",
       "      <td>2018</td>\n",
       "      <td>последний</td>\n",
       "    </tr>\n",
       "    <tr>\n",
       "      <th>19186</th>\n",
       "      <td>8</td>\n",
       "      <td>970</td>\n",
       "      <td>61.5</td>\n",
       "      <td>2018-04-04</td>\n",
       "      <td>3</td>\n",
       "      <td>2.65</td>\n",
       "      <td>5</td>\n",
       "      <td>47.4</td>\n",
       "      <td>1</td>\n",
       "      <td>False</td>\n",
       "      <td>...</td>\n",
       "      <td>NaN</td>\n",
       "      <td>0.0</td>\n",
       "      <td>NaN</td>\n",
       "      <td>273.0</td>\n",
       "      <td>15.772358</td>\n",
       "      <td>2</td>\n",
       "      <td>ср</td>\n",
       "      <td>4</td>\n",
       "      <td>2018</td>\n",
       "      <td>первый</td>\n",
       "    </tr>\n",
       "    <tr>\n",
       "      <th>638</th>\n",
       "      <td>6</td>\n",
       "      <td>980</td>\n",
       "      <td>47.1</td>\n",
       "      <td>2019-04-12</td>\n",
       "      <td>2</td>\n",
       "      <td>2.65</td>\n",
       "      <td>3</td>\n",
       "      <td>29.0</td>\n",
       "      <td>3</td>\n",
       "      <td>False</td>\n",
       "      <td>...</td>\n",
       "      <td>NaN</td>\n",
       "      <td>0.0</td>\n",
       "      <td>NaN</td>\n",
       "      <td>NaN</td>\n",
       "      <td>20.806794</td>\n",
       "      <td>4</td>\n",
       "      <td>пт</td>\n",
       "      <td>4</td>\n",
       "      <td>2019</td>\n",
       "      <td>последний</td>\n",
       "    </tr>\n",
       "    <tr>\n",
       "      <th>1761</th>\n",
       "      <td>11</td>\n",
       "      <td>999</td>\n",
       "      <td>62.0</td>\n",
       "      <td>2018-02-15</td>\n",
       "      <td>4</td>\n",
       "      <td>2.65</td>\n",
       "      <td>5</td>\n",
       "      <td>46.0</td>\n",
       "      <td>2</td>\n",
       "      <td>False</td>\n",
       "      <td>...</td>\n",
       "      <td>NaN</td>\n",
       "      <td>0.0</td>\n",
       "      <td>NaN</td>\n",
       "      <td>226.0</td>\n",
       "      <td>16.112903</td>\n",
       "      <td>3</td>\n",
       "      <td>чт</td>\n",
       "      <td>2</td>\n",
       "      <td>2018</td>\n",
       "      <td>другой</td>\n",
       "    </tr>\n",
       "    <tr>\n",
       "      <th>...</th>\n",
       "      <td>...</td>\n",
       "      <td>...</td>\n",
       "      <td>...</td>\n",
       "      <td>...</td>\n",
       "      <td>...</td>\n",
       "      <td>...</td>\n",
       "      <td>...</td>\n",
       "      <td>...</td>\n",
       "      <td>...</td>\n",
       "      <td>...</td>\n",
       "      <td>...</td>\n",
       "      <td>...</td>\n",
       "      <td>...</td>\n",
       "      <td>...</td>\n",
       "      <td>...</td>\n",
       "      <td>...</td>\n",
       "      <td>...</td>\n",
       "      <td>...</td>\n",
       "      <td>...</td>\n",
       "      <td>...</td>\n",
       "      <td>...</td>\n",
       "    </tr>\n",
       "    <tr>\n",
       "      <th>22417</th>\n",
       "      <td>10</td>\n",
       "      <td>3500</td>\n",
       "      <td>49.0</td>\n",
       "      <td>2019-04-26</td>\n",
       "      <td>1</td>\n",
       "      <td>2.60</td>\n",
       "      <td>10</td>\n",
       "      <td>19.0</td>\n",
       "      <td>9</td>\n",
       "      <td>False</td>\n",
       "      <td>...</td>\n",
       "      <td>NaN</td>\n",
       "      <td>0.0</td>\n",
       "      <td>NaN</td>\n",
       "      <td>NaN</td>\n",
       "      <td>71.428571</td>\n",
       "      <td>4</td>\n",
       "      <td>пт</td>\n",
       "      <td>4</td>\n",
       "      <td>2019</td>\n",
       "      <td>другой</td>\n",
       "    </tr>\n",
       "    <tr>\n",
       "      <th>6816</th>\n",
       "      <td>11</td>\n",
       "      <td>2400</td>\n",
       "      <td>46.1</td>\n",
       "      <td>2016-02-18</td>\n",
       "      <td>1</td>\n",
       "      <td>2.65</td>\n",
       "      <td>10</td>\n",
       "      <td>18.9</td>\n",
       "      <td>2</td>\n",
       "      <td>False</td>\n",
       "      <td>...</td>\n",
       "      <td>NaN</td>\n",
       "      <td>0.0</td>\n",
       "      <td>NaN</td>\n",
       "      <td>421.0</td>\n",
       "      <td>52.060738</td>\n",
       "      <td>3</td>\n",
       "      <td>чт</td>\n",
       "      <td>2</td>\n",
       "      <td>2016</td>\n",
       "      <td>другой</td>\n",
       "    </tr>\n",
       "    <tr>\n",
       "      <th>4483</th>\n",
       "      <td>12</td>\n",
       "      <td>2300</td>\n",
       "      <td>46.5</td>\n",
       "      <td>2017-10-20</td>\n",
       "      <td>1</td>\n",
       "      <td>2.55</td>\n",
       "      <td>10</td>\n",
       "      <td>20.1</td>\n",
       "      <td>8</td>\n",
       "      <td>False</td>\n",
       "      <td>...</td>\n",
       "      <td>NaN</td>\n",
       "      <td>0.0</td>\n",
       "      <td>NaN</td>\n",
       "      <td>414.0</td>\n",
       "      <td>49.462366</td>\n",
       "      <td>4</td>\n",
       "      <td>пт</td>\n",
       "      <td>10</td>\n",
       "      <td>2017</td>\n",
       "      <td>другой</td>\n",
       "    </tr>\n",
       "    <tr>\n",
       "      <th>19176</th>\n",
       "      <td>8</td>\n",
       "      <td>1100</td>\n",
       "      <td>30.0</td>\n",
       "      <td>2017-04-17</td>\n",
       "      <td>1</td>\n",
       "      <td>2.65</td>\n",
       "      <td>2</td>\n",
       "      <td>15.8</td>\n",
       "      <td>1</td>\n",
       "      <td>False</td>\n",
       "      <td>...</td>\n",
       "      <td>NaN</td>\n",
       "      <td>0.0</td>\n",
       "      <td>NaN</td>\n",
       "      <td>NaN</td>\n",
       "      <td>36.666667</td>\n",
       "      <td>0</td>\n",
       "      <td>пнд</td>\n",
       "      <td>4</td>\n",
       "      <td>2017</td>\n",
       "      <td>первый</td>\n",
       "    </tr>\n",
       "    <tr>\n",
       "      <th>15459</th>\n",
       "      <td>8</td>\n",
       "      <td>2000</td>\n",
       "      <td>59.0</td>\n",
       "      <td>2018-11-18</td>\n",
       "      <td>3</td>\n",
       "      <td>2.65</td>\n",
       "      <td>2</td>\n",
       "      <td>42.3</td>\n",
       "      <td>2</td>\n",
       "      <td>False</td>\n",
       "      <td>...</td>\n",
       "      <td>NaN</td>\n",
       "      <td>0.0</td>\n",
       "      <td>NaN</td>\n",
       "      <td>9.0</td>\n",
       "      <td>33.898305</td>\n",
       "      <td>6</td>\n",
       "      <td>вс</td>\n",
       "      <td>11</td>\n",
       "      <td>2018</td>\n",
       "      <td>последний</td>\n",
       "    </tr>\n",
       "  </tbody>\n",
       "</table>\n",
       "<p>21763 rows × 28 columns</p>\n",
       "</div>"
      ],
      "text/plain": [
       "       total_images  last_price  total_area first_day_exposition  rooms  \\\n",
       "5821              7         820        51.0           2017-12-09      2   \n",
       "8779              9         620        36.0           2018-01-15      1   \n",
       "19186             8         970        61.5           2018-04-04      3   \n",
       "638               6         980        47.1           2019-04-12      2   \n",
       "1761             11         999        62.0           2018-02-15      4   \n",
       "...             ...         ...         ...                  ...    ...   \n",
       "22417            10        3500        49.0           2019-04-26      1   \n",
       "6816             11        2400        46.1           2016-02-18      1   \n",
       "4483             12        2300        46.5           2017-10-20      1   \n",
       "19176             8        1100        30.0           2017-04-17      1   \n",
       "15459             8        2000        59.0           2018-11-18      3   \n",
       "\n",
       "       ceiling_height  floors_total  living_area  floor  is_apartment  ...  \\\n",
       "5821             2.65             5         32.0      5         False  ...   \n",
       "8779             2.65             5         19.0      5         False  ...   \n",
       "19186            2.65             5         47.4      1         False  ...   \n",
       "638              2.65             3         29.0      3         False  ...   \n",
       "1761             2.65             5         46.0      2         False  ...   \n",
       "...               ...           ...          ...    ...           ...  ...   \n",
       "22417            2.60            10         19.0      9         False  ...   \n",
       "6816             2.65            10         18.9      2         False  ...   \n",
       "4483             2.55            10         20.1      8         False  ...   \n",
       "19176            2.65             2         15.8      1         False  ...   \n",
       "15459            2.65             2         42.3      2         False  ...   \n",
       "\n",
       "       parks_nearest  ponds_around3000  ponds_nearest  days_exposition  \\\n",
       "5821             NaN               0.0            NaN            130.0   \n",
       "8779             NaN               0.0            NaN             45.0   \n",
       "19186            NaN               0.0            NaN            273.0   \n",
       "638              NaN               0.0            NaN              NaN   \n",
       "1761             NaN               0.0            NaN            226.0   \n",
       "...              ...               ...            ...              ...   \n",
       "22417            NaN               0.0            NaN              NaN   \n",
       "6816             NaN               0.0            NaN            421.0   \n",
       "4483             NaN               0.0            NaN            414.0   \n",
       "19176            NaN               0.0            NaN              NaN   \n",
       "15459            NaN               0.0            NaN              9.0   \n",
       "\n",
       "      price_square_meter  day_exposition  weekday  month_exposition  \\\n",
       "5821           16.078431               5       сб                12   \n",
       "8779           17.222222               0      пнд                 1   \n",
       "19186          15.772358               2       ср                 4   \n",
       "638            20.806794               4       пт                 4   \n",
       "1761           16.112903               3       чт                 2   \n",
       "...                  ...             ...      ...               ...   \n",
       "22417          71.428571               4       пт                 4   \n",
       "6816           52.060738               3       чт                 2   \n",
       "4483           49.462366               4       пт                10   \n",
       "19176          36.666667               0      пнд                 4   \n",
       "15459          33.898305               6       вс                11   \n",
       "\n",
       "       year_exposition  type_floor  \n",
       "5821              2017   последний  \n",
       "8779              2018   последний  \n",
       "19186             2018      первый  \n",
       "638               2019   последний  \n",
       "1761              2018      другой  \n",
       "...                ...         ...  \n",
       "22417             2019      другой  \n",
       "6816              2016      другой  \n",
       "4483              2017      другой  \n",
       "19176             2017      первый  \n",
       "15459             2018   последний  \n",
       "\n",
       "[21763 rows x 28 columns]"
      ]
     },
     "metadata": {},
     "output_type": "display_data"
    }
   ],
   "source": [
    "## Создание колонки type_floor\n",
    "\n",
    "# Создадим функцию, которая вернет тип этажа квартиры \n",
    "# Первый - если этаж №1, последний - если этаж совпадает с общим кол-вом этажей дома;\n",
    "# другой - если не удовлетворяет обоим условиям\n",
    "\n",
    "def type_floor(row):\n",
    "    floors_total = row['floors_total']\n",
    "    floor = row['floor']\n",
    "    \n",
    "    if floor == 1:\n",
    "        return 'первый'\n",
    "    if floor == floors_total:\n",
    "        return 'последний'\n",
    "    else:\n",
    "        return 'другой'\n",
    "\n",
    "# Применим функцию и проверим результат\n",
    "data['type_floor'] = data.apply(type_floor, axis=1)    \n",
    "display(data)"
   ]
  },
  {
   "cell_type": "code",
   "execution_count": 42,
   "id": "27d8ff71",
   "metadata": {},
   "outputs": [
    {
     "data": {
      "text/plain": [
       "12.0    1427\n",
       "14.0    1405\n",
       "11.0    1339\n",
       "13.0    1322\n",
       "15.0    1289\n",
       "16.0    1022\n",
       "10.0     837\n",
       "4.0      837\n",
       "5.0      684\n",
       "9.0      642\n",
       "8.0      623\n",
       "17.0     549\n",
       "3.0      500\n",
       "6.0      412\n",
       "7.0      386\n",
       "18.0     325\n",
       "2.0      292\n",
       "30.0     247\n",
       "19.0     241\n",
       "1.0      226\n",
       "21.0     196\n",
       "31.0     194\n",
       "32.0     171\n",
       "29.0     153\n",
       "34.0     144\n",
       "22.0     131\n",
       "33.0     112\n",
       "28.0     108\n",
       "25.0     103\n",
       "20.0     102\n",
       "26.0      95\n",
       "23.0      95\n",
       "24.0      93\n",
       "27.0      93\n",
       "0.0       80\n",
       "35.0      75\n",
       "51.0      71\n",
       "50.0      44\n",
       "52.0      37\n",
       "49.0      33\n",
       "36.0      23\n",
       "46.0      21\n",
       "48.0      19\n",
       "40.0      14\n",
       "53.0      13\n",
       "39.0      11\n",
       "47.0       8\n",
       "41.0       8\n",
       "37.0       5\n",
       "54.0       4\n",
       "65.0       4\n",
       "42.0       3\n",
       "59.0       2\n",
       "62.0       2\n",
       "61.0       1\n",
       "60.0       1\n",
       "56.0       1\n",
       "38.0       1\n",
       "64.0       1\n",
       "43.0       1\n",
       "Name: centre_distance, dtype: int64"
      ]
     },
     "execution_count": 42,
     "metadata": {},
     "output_type": "execute_result"
    }
   ],
   "source": [
    "## Создание колонки centre_distance\n",
    "\n",
    "# Напишем функцию, которая вернет целочисленнное расстояние до центра в км., игнорируя пустые значения\n",
    "\n",
    "def change_distance(distance):\n",
    "    \n",
    "    if not distance is None:\n",
    "        return int(distance / 1000)\n",
    "    return None\n",
    "\n",
    "# Применим функцию для создания новой колонки, причем применим ее к отфильтрованному датафрейму (без NaN)\n",
    "data.loc[~data['cityCenters_nearest'].isna(), 'centre_distance'] =\\\n",
    "data.loc[~data['cityCenters_nearest'].isna(), 'cityCenters_nearest'].apply(change_distance)\n",
    "\n",
    "# Проверим полученные значения\n",
    "data['centre_distance'].value_counts()"
   ]
  },
  {
   "cell_type": "markdown",
   "id": "ecec3b96",
   "metadata": {},
   "source": [
    "# Анализ данных"
   ]
  },
  {
   "cell_type": "markdown",
   "id": "5e935bbd",
   "metadata": {},
   "source": [
    "## Изучение параметров объектов "
   ]
  },
  {
   "cell_type": "code",
   "execution_count": 43,
   "id": "8cd45a9c",
   "metadata": {},
   "outputs": [
    {
     "data": {
      "text/plain": [
       "count    21763.000000\n",
       "mean        60.021859\n",
       "std         34.750372\n",
       "min          0.000000\n",
       "25%         40.000000\n",
       "50%         52.000000\n",
       "75%         69.500000\n",
       "max        900.000000\n",
       "Name: total_area, dtype: float64"
      ]
     },
     "execution_count": 43,
     "metadata": {},
     "output_type": "execute_result"
    },
    {
     "data": {
      "image/png": "[encoded data removed]",
      "text/plain": [
       "<Figure size 432x288 with 1 Axes>"
      ]
     },
     "metadata": {
      "needs_background": "light"
     },
     "output_type": "display_data"
    }
   ],
   "source": [
    "## Общая S\n",
    "\n",
    "# Просмотрим общую информацию о колонке\n",
    "data['total_area'].plot(kind='hist', title='Общая площадь', bins=20, grid=True, range=(0,500))\n",
    "data['total_area'].describe()"
   ]
  },
  {
   "cell_type": "markdown",
   "id": "405b20de",
   "metadata": {},
   "source": [
    "<div class=\"alert alert-info\"> \n",
    "\n",
    " - Подавляющее большинство квартир имеют общую площадь до 100м, причем среди них больше всего квартир до 60м.\n",
    " - Небольшая часть квартир (меньше 10%) доходит до 20м.\n",
    " - Средняя общая площадь квартир в датафрейме - 60м.\n",
    " - Минимальная общая S - 12м, максимальная - 900м."
   ]
  },
  {
   "cell_type": "code",
   "execution_count": 44,
   "id": "53e4e681",
   "metadata": {},
   "outputs": [
    {
     "data": {
      "text/plain": [
       "count    21763.000000\n",
       "mean        34.468619\n",
       "std         22.036438\n",
       "min          5.400000\n",
       "25%         18.600000\n",
       "50%         30.000000\n",
       "75%         42.300000\n",
       "max        409.700000\n",
       "Name: living_area, dtype: float64"
      ]
     },
     "execution_count": 44,
     "metadata": {},
     "output_type": "execute_result"
    },
    {
     "data": {
      "image/png": "[encoded data removed]",
      "text/plain": [
       "<Figure size 432x288 with 1 Axes>"
      ]
     },
     "metadata": {
      "needs_background": "light"
     },
     "output_type": "display_data"
    }
   ],
   "source": [
    "## Жилая S\n",
    "\n",
    "# Просмотрим общую информацию о колонке\n",
    "data['living_area'].plot(kind='hist', title='Жилая площадь', bins=20, grid=True, range=(0,200))\n",
    "data['living_area'].describe()"
   ]
  },
  {
   "cell_type": "markdown",
   "id": "369cf739",
   "metadata": {},
   "source": [
    "<div class=\"alert alert-info\"> \n",
    "    \n",
    " - Наблюдается вполне логичная зависимость между общей и жилой площадью квартир\n",
    " - Подавляющее большинство жилой площади квартир находится в диапазоне до 50м.\n",
    " - Средний показатель жилой S - 34м.\n",
    " - Минимальная жилая S - 5м, максимальная - 571м."
   ]
  },
  {
   "cell_type": "code",
   "execution_count": 45,
   "id": "09cd119a",
   "metadata": {},
   "outputs": [
    {
     "name": "stdout",
     "output_type": "stream",
     "text": [
      "*Пропущено значений площади кухни* - 807\n"
     ]
    },
    {
     "data": {
      "text/plain": [
       "count    20956.000000\n",
       "mean        10.518381\n",
       "std          5.845993\n",
       "min          1.300000\n",
       "25%          7.000000\n",
       "50%          9.000000\n",
       "75%         12.000000\n",
       "max        112.000000\n",
       "Name: kitchen_area, dtype: float64"
      ]
     },
     "execution_count": 45,
     "metadata": {},
     "output_type": "execute_result"
    },
    {
     "data": {
      "image/png": "[encoded data removed]",
      "text/plain": [
       "<Figure size 432x288 with 1 Axes>"
      ]
     },
     "metadata": {
      "needs_background": "light"
     },
     "output_type": "display_data"
    }
   ],
   "source": [
    "## S кухни\n",
    "\n",
    "# Не забудем о том, что в колонке есть пропущенные значения\n",
    "# Пропущено не так много значений, поэтому это несущественно повлияет на достоверность результатов\n",
    "print('*Пропущено значений площади кухни* - {0}'.format(data['kitchen_area'].isna().sum()))\n",
    "\n",
    "# Просмотрим общую информацию о колонке\n",
    "data['kitchen_area'].plot(kind='hist', title='Площадь кухни', bins=20, grid=True, range=(0,50))\n",
    "data['kitchen_area'].describe()"
   ]
  },
  {
   "cell_type": "markdown",
   "id": "e170c8f4",
   "metadata": {},
   "source": [
    "<div class=\"alert alert-info\">  \n",
    " \n",
    " - Самая распространенная площадь кухни - от 5 до 12м.\n",
    " - Средняя площадь кухни - 10м.\n",
    " - Минимальная площадь кухни - 1м, максимальная - 112м. Причем минимальная площадь скорее похожа на аномальное значение."
   ]
  },
  {
   "cell_type": "code",
   "execution_count": 46,
   "id": "070ff2e4",
   "metadata": {},
   "outputs": [
    {
     "data": {
      "text/plain": [
       "count     21763.000000\n",
       "mean       6501.477094\n",
       "std       10867.071639\n",
       "min          12.000000\n",
       "25%        3450.000000\n",
       "50%        4650.000000\n",
       "75%        6750.000000\n",
       "max      763000.000000\n",
       "Name: last_price, dtype: float64"
      ]
     },
     "execution_count": 46,
     "metadata": {},
     "output_type": "execute_result"
    },
    {
     "data": {
      "image/png": "[encoded data removed]",
      "text/plain": [
       "<Figure size 432x288 with 1 Axes>"
      ]
     },
     "metadata": {
      "needs_background": "light"
     },
     "output_type": "display_data"
    }
   ],
   "source": [
    "## Цена объекта\n",
    "\n",
    "# Просмотрим общую информацию о колонке\n",
    "data['last_price'].plot(kind='hist', title='Цена в тысячах', bins=10, grid=True, range=(0,100000))\n",
    "data['last_price'].describe()"
   ]
  },
  {
   "cell_type": "markdown",
   "id": "e6f0f5ba",
   "metadata": {},
   "source": [
    " <div class=\"alert alert-info\"> \n",
    " \n",
    " - Подавляющее большинство квартир в датафрейме имеет цену до 10млн.\n",
    " - Средляя цена недвижимости - 6.5млн.\n",
    " - Минимальная цена - 12тыс, максимальная - 763млн."
   ]
  },
  {
   "cell_type": "code",
   "execution_count": 47,
   "id": "4bc8d073",
   "metadata": {},
   "outputs": [
    {
     "data": {
      "text/plain": [
       "count    21763.000000\n",
       "mean         2.072416\n",
       "std          1.080482\n",
       "min          0.000000\n",
       "25%          1.000000\n",
       "50%          2.000000\n",
       "75%          3.000000\n",
       "max         19.000000\n",
       "Name: rooms, dtype: float64"
      ]
     },
     "execution_count": 47,
     "metadata": {},
     "output_type": "execute_result"
    },
    {
     "data": {
      "image/png": "[encoded data removed]",
      "text/plain": [
       "<Figure size 432x288 with 1 Axes>"
      ]
     },
     "metadata": {
      "needs_background": "light"
     },
     "output_type": "display_data"
    }
   ],
   "source": [
    "## Кол-во комнат\n",
    "\n",
    "# Просмотрим общую информацию о колонке\n",
    "data['rooms'].plot(kind='hist', title='Кол-во комнат', bins=10, grid=True, range=(0,20))\n",
    "data['rooms'].describe()"
   ]
  },
  {
   "cell_type": "markdown",
   "id": "11eda85f",
   "metadata": {},
   "source": [
    " - Большинство недвижимости имеет 1-3 комнаты.\n",
    " - Среднее кол-во комнат - 2.\n",
    " - В некоторых объектах комнат нет (скорее всего, идет речь о квартирах-студиях).\n",
    " - Максимальное кол-во комнат - 19."
   ]
  },
  {
   "cell_type": "code",
   "execution_count": 1,
   "id": "4175094a",
   "metadata": {},
   "outputs": [
    {
     "ename": "NameError",
     "evalue": "name 'data' is not defined",
     "output_type": "error",
     "traceback": [
      "\u001b[1;31m---------------------------------------------------------------------------\u001b[0m",
      "\u001b[1;31mNameError\u001b[0m                                 Traceback (most recent call last)",
      "Input \u001b[1;32mIn [1]\u001b[0m, in \u001b[0;36m<cell line: 4>\u001b[1;34m()\u001b[0m\n\u001b[0;32m      1\u001b[0m \u001b[38;5;66;03m## Высота потолков\u001b[39;00m\n\u001b[0;32m      2\u001b[0m \n\u001b[0;32m      3\u001b[0m \u001b[38;5;66;03m# Просмотрим общую информацию о колонке\u001b[39;00m\n\u001b[1;32m----> 4\u001b[0m \u001b[43mdata\u001b[49m[\u001b[38;5;124m'\u001b[39m\u001b[38;5;124mceiling_height\u001b[39m\u001b[38;5;124m'\u001b[39m]\u001b[38;5;241m.\u001b[39mplot(kind\u001b[38;5;241m=\u001b[39m\u001b[38;5;124m'\u001b[39m\u001b[38;5;124mhist\u001b[39m\u001b[38;5;124m'\u001b[39m, title\u001b[38;5;241m=\u001b[39m\u001b[38;5;124m'\u001b[39m\u001b[38;5;124mВысота потолков\u001b[39m\u001b[38;5;124m'\u001b[39m, bins\u001b[38;5;241m=\u001b[39m\u001b[38;5;241m20\u001b[39m, grid\u001b[38;5;241m=\u001b[39m\u001b[38;5;28;01mTrue\u001b[39;00m, \u001b[38;5;28mrange\u001b[39m\u001b[38;5;241m=\u001b[39m(\u001b[38;5;241m2\u001b[39m,\u001b[38;5;241m5\u001b[39m))\n\u001b[0;32m      5\u001b[0m data[\u001b[38;5;124m'\u001b[39m\u001b[38;5;124mceiling_height\u001b[39m\u001b[38;5;124m'\u001b[39m]\u001b[38;5;241m.\u001b[39mdescribe()\n",
      "\u001b[1;31mNameError\u001b[0m: name 'data' is not defined"
     ]
    }
   ],
   "source": [
    "## Высота потолков\n",
    "\n",
    "# Просмотрим общую информацию о колонке\n",
    "data['ceiling_height'].plot(kind='hist', title='Высота потолков', bins=20, grid=True, range=(2,5))\n",
    "data['ceiling_height'].describe()"
   ]
  },
  {
   "cell_type": "markdown",
   "id": "20bf4d55",
   "metadata": {},
   "source": [
    "<div class=\"alert alert-info\"> \n",
    "    \n",
    " - Средняя высота потолков - 2.7м. и большинство недвижимости имеет высоту полотков 2.6-2.7м.\n",
    " - Минимальная высота полотков - 2м, максимальная - 8.3м."
   ]
  },
  {
   "cell_type": "code",
   "execution_count": 50,
   "id": "3ec8eef1",
   "metadata": {},
   "outputs": [
    {
     "data": {
      "text/plain": [
       "count    21763.000000\n",
       "mean         5.889124\n",
       "std          4.867066\n",
       "min          1.000000\n",
       "25%          2.000000\n",
       "50%          4.000000\n",
       "75%          8.000000\n",
       "max         33.000000\n",
       "Name: floor, dtype: float64"
      ]
     },
     "execution_count": 50,
     "metadata": {},
     "output_type": "execute_result"
    },
    {
     "data": {
      "image/png": "[encoded data removed]",
      "text/plain": [
       "<Figure size 432x288 with 1 Axes>"
      ]
     },
     "metadata": {
      "needs_background": "light"
     },
     "output_type": "display_data"
    }
   ],
   "source": [
    "## Этаж квартиры\n",
    "\n",
    "# Просмотрим общую информацию о колонке\n",
    "data['floor'].plot(kind='hist', title='Этаж', bins=20, grid=True, range=(0,40))\n",
    "data['floor'].describe()"
   ]
  },
  {
   "cell_type": "markdown",
   "id": "e05ee586",
   "metadata": {},
   "source": [
    " <div class=\"alert alert-info\"> \n",
    " \n",
    " - Распределение недвижимости по этажам достаточно обширное, однако большинство квартир находятся на высоте до 8 этажа.\n",
    " - В среднем квартиры находятся на высоте 5 этажа.\n",
    " - Самый низкий этаж - 1, самый высокий - 33."
   ]
  },
  {
   "cell_type": "code",
   "execution_count": 51,
   "id": "97839ce8",
   "metadata": {},
   "outputs": [
    {
     "data": {
      "text/plain": [
       "другой       16024\n",
       "последний     3077\n",
       "первый        2662\n",
       "Name: type_floor, dtype: int64"
      ]
     },
     "execution_count": 51,
     "metadata": {},
     "output_type": "execute_result"
    },
    {
     "data": {
      "image/png": "[encoded data removed]",
      "text/plain": [
       "<Figure size 432x288 with 1 Axes>"
      ]
     },
     "metadata": {
      "needs_background": "light"
     },
     "output_type": "display_data"
    }
   ],
   "source": [
    "# Тип этажа квартиры\n",
    "\n",
    "# Просмотрим общую информацию о колонке\n",
    "data['type_floor'].hist(bins=6)\n",
    "plt.title('Тип этажа квартиры')\n",
    "\n",
    "data['type_floor'].value_counts()"
   ]
  },
  {
   "cell_type": "markdown",
   "id": "e1364219",
   "metadata": {},
   "source": [
    "<div class=\"alert alert-info\">  \n",
    " \n",
    " - На первом и последнем этаже находится около 30% недвижимости, остальная часть - на других этажах.\n",
    " - Квартир на последнем этаже в выборке немного больше, чем на первом."
   ]
  },
  {
   "cell_type": "code",
   "execution_count": 52,
   "id": "3e3c889f",
   "metadata": {},
   "outputs": [
    {
     "data": {
      "text/plain": [
       "count    21763.000000\n",
       "mean        10.620135\n",
       "std          6.577319\n",
       "min          0.000000\n",
       "25%          5.000000\n",
       "50%          9.000000\n",
       "75%         16.000000\n",
       "max         60.000000\n",
       "Name: floors_total, dtype: float64"
      ]
     },
     "execution_count": 52,
     "metadata": {},
     "output_type": "execute_result"
    },
    {
     "data": {
      "image/png": "[encoded data removed]",
      "text/plain": [
       "<Figure size 432x288 with 1 Axes>"
      ]
     },
     "metadata": {
      "needs_background": "light"
     },
     "output_type": "display_data"
    }
   ],
   "source": [
    "## Общее количество этажей в доме\n",
    "\n",
    "# Просмотрим общую информацию о колонке\n",
    "data['floors_total'].plot(kind='hist', title='Общее количество этажей в доме', bins=20, grid=True, range=(0,30))\n",
    "data['floors_total'].describe()"
   ]
  },
  {
   "cell_type": "markdown",
   "id": "36455ac5",
   "metadata": {},
   "source": [
    " <div class=\"alert alert-info\"> \n",
    " \n",
    " - Несмотря на достаточно большой разброс значений, большинство недвижимости находится в домах высотой 5-10 этажей.\n",
    " - Среднее кол-во этажей в доме - 10.\n",
    " - Самый низкий дом - всего 1 этаж (учтем, что 0 - это ранее заполненные пропуски), самый высокий - 60."
   ]
  },
  {
   "cell_type": "code",
   "execution_count": 53,
   "id": "787add06",
   "metadata": {},
   "outputs": [
    {
     "name": "stdout",
     "output_type": "stream",
     "text": [
      "*Пропущено значений* - 4885\n"
     ]
    },
    {
     "data": {
      "text/plain": [
       "count    16878.000000\n",
       "mean     14237.221531\n",
       "std       8664.203611\n",
       "min        181.000000\n",
       "25%       9289.000000\n",
       "50%      13108.500000\n",
       "75%      16275.000000\n",
       "max      65968.000000\n",
       "Name: cityCenters_nearest, dtype: float64"
      ]
     },
     "execution_count": 53,
     "metadata": {},
     "output_type": "execute_result"
    },
    {
     "data": {
      "image/png": "[encoded data removed]",
      "text/plain": [
       "<Figure size 432x288 with 1 Axes>"
      ]
     },
     "metadata": {
      "needs_background": "light"
     },
     "output_type": "display_data"
    }
   ],
   "source": [
    "# Расстояние до центра города в метрах\n",
    "\n",
    "# Не забудем о том, что в колонке есть пропущенные значения\n",
    "# Пропущено около 20% значений - данные могут не совсем точно отражать действительность.\n",
    "print('*Пропущено значений* - {0}'.format(data['cityCenters_nearest'].isna().sum()))\n",
    "\n",
    "# Просмотрим общую информацию о колонке\n",
    "data['cityCenters_nearest'].plot(kind='hist', title='Расстояние до центра города в метрах', bins=20, grid=True)\n",
    "data['cityCenters_nearest'].describe()"
   ]
  },
  {
   "cell_type": "markdown",
   "id": "6b7d9ce0",
   "metadata": {},
   "source": [
    "<div class=\"alert alert-info\"> \n",
    "    \n",
    "\n",
    " - Диапазон разброса недвижимости по расстоянию до центра достаточно внушительный - более 65 км.\n",
    " - Большинство недвижимости находится на расстоянии до 20км. от центра города, причем больше всего в диапазоне 10-20км.\n",
    " - В среднем расстрояние до центра составляет 13км.\n",
    " - Самая близкая к центру недвижимость находится почти в центре - на расстоянии 181м. от него;\n",
    " - Самая дальняя - более 65км. от центра."
   ]
  },
  {
   "cell_type": "code",
   "execution_count": 54,
   "id": "a1779f80",
   "metadata": {},
   "outputs": [
    {
     "name": "stdout",
     "output_type": "stream",
     "text": [
      "*Пропущено значений* - 4906\n"
     ]
    },
    {
     "data": {
      "text/plain": [
       "count    16857.000000\n",
       "mean     28768.160289\n",
       "std      12650.562515\n",
       "min          0.000000\n",
       "25%      18539.000000\n",
       "50%      26662.000000\n",
       "75%      37228.000000\n",
       "max      84869.000000\n",
       "Name: airports_nearest, dtype: float64"
      ]
     },
     "execution_count": 54,
     "metadata": {},
     "output_type": "execute_result"
    },
    {
     "data": {
      "image/png": "[encoded data removed]",
      "text/plain": [
       "<Figure size 432x288 with 1 Axes>"
      ]
     },
     "metadata": {
      "needs_background": "light"
     },
     "output_type": "display_data"
    }
   ],
   "source": [
    "# Расстояние до ближайшего аэропорта\n",
    "\n",
    "# Не забудем о том, что в колонке есть пропущенные значения\n",
    "# Пропущено около 20% значений - данные могут не совсем точно отражать действительность.\n",
    "print('*Пропущено значений* - {0}'.format(data['airports_nearest'].isna().sum()))\n",
    "\n",
    "# Просмотрим общую информацию о колонке\n",
    "data['airports_nearest'].plot(kind='hist', title='Расстояние до ближайшего аэропорта', bins=20, grid=True)\n",
    "data['airports_nearest'].describe()"
   ]
  },
  {
   "cell_type": "markdown",
   "id": "d130abca",
   "metadata": {},
   "source": [
    " <div class=\"alert alert-info\"> \n",
    " \n",
    " - Диапазон разброса недвижимости по расстоянию до аэропорта не менее внушительный, чем в предыдущей колонке - почти 85 км.\n",
    " - Большинство недвижимости находится в 20-30км. от аэропорта.\n",
    " - Среднее расстояние до ближайшего аэропорта в выборке - около 29км.\n",
    " - Один объект находится в непосредственной близости от аэропота, а самый дальний - в 84км. от него"
   ]
  },
  {
   "cell_type": "code",
   "execution_count": 55,
   "id": "937a71bc",
   "metadata": {},
   "outputs": [
    {
     "name": "stdout",
     "output_type": "stream",
     "text": [
      "*Пропущено значений* - 14272\n"
     ]
    },
    {
     "data": {
      "text/plain": [
       "count    7491.000000\n",
       "mean      487.827126\n",
       "std       337.851956\n",
       "min         1.000000\n",
       "25%       287.000000\n",
       "50%       451.000000\n",
       "75%       610.000000\n",
       "max      3190.000000\n",
       "Name: parks_nearest, dtype: float64"
      ]
     },
     "execution_count": 55,
     "metadata": {},
     "output_type": "execute_result"
    },
    {
     "data": {
      "image/png": "[encoded data removed]",
      "text/plain": [
       "<Figure size 432x288 with 1 Axes>"
      ]
     },
     "metadata": {
      "needs_background": "light"
     },
     "output_type": "display_data"
    }
   ],
   "source": [
    "# Расстояние до ближайшего парка\n",
    "\n",
    "# Не забудем о том, что в колонке есть пропущенные значения\n",
    "# Пропущено более 60% значений - по имеющимся данным очень трудно делать реалистичные выводы.\n",
    "print('*Пропущено значений* - {0}'.format(data['parks_nearest'].isna().sum()))\n",
    "\n",
    "# Просмотрим общую информацию о колонке\n",
    "data['parks_nearest'].plot(kind='hist', title='Расстояние до ближайшего парка', bins=20, grid=True, range=(0,1500))\n",
    "data['parks_nearest'].describe()"
   ]
  },
  {
   "cell_type": "markdown",
   "id": "862f0c92",
   "metadata": {},
   "source": [
    " <div class=\"alert alert-info\"> \n",
    " \n",
    " - Пропущено более 60% данных по расстоянию до ближайшего парка - возможно, внушительная часть недвижимости не имеет парка вблизи от себя; кроме того, возможно, что данный параметр не считается важным для размещающих объявление по сравнению с другими параметрами.\n",
    "   - Из оставшихся 40% можно сделать такие выводы:\n",
    " - В большинстве случаев парк находится на расстоянии до 600м.\n",
    " - Среднее расстояние до парка - около 500м.\\\n",
    " - Объект с самым ближайшим парком находится от него в непосредственноц близости - 1м\n",
    " - Самый дальний указанный парк находится на расстоянии 3км. от недвижимости."
   ]
  },
  {
   "cell_type": "code",
   "execution_count": 85,
   "id": "c1ec15c6",
   "metadata": {},
   "outputs": [
    {
     "data": {
      "text/plain": [
       "Text(0.5, 1.0, 'День и месяц публикации объявления')"
      ]
     },
     "execution_count": 85,
     "metadata": {},
     "output_type": "execute_result"
    },
    {
     "data": {
      "image/png": "[encoded data removed]",
      "text/plain": [
       "<Figure size 432x288 with 1 Axes>"
      ]
     },
     "metadata": {
      "needs_background": "light"
     },
     "output_type": "display_data"
    }
   ],
   "source": [
    "# День и месяц публикации объявления.\n",
    "\n",
    "ax = data['month_exposition'].plot(kind='hist', bins=12, grid=True, histtype='step', linewidth=5, legend=True)\n",
    "data['day_exposition'].plot(kind='hist', bins=6, grid=True, histtype='step', linewidth=5, legend=True, ax=ax)\n",
    "plt.title('День и месяц публикации объявления')"
   ]
  },
  {
   "cell_type": "markdown",
   "id": "8ad25d54",
   "metadata": {},
   "source": [
    " <div class=\"alert alert-info\"> \n",
    " \n",
    " - Распределение по дню и месяцу публикации достаточно плавное.\n",
    " - Чаще всего объявления появлялись весной и осенью.\n",
    " - В понедельник и воскресенье появлялось меньше всего объявлений"
   ]
  },
  {
   "cell_type": "markdown",
   "id": "25415487",
   "metadata": {},
   "source": [
    " <div class=\"alert alert-success\" role=\"alert\">\n",
    "\n",
    " **Общий итог по параметрам недвижимости**\n",
    " \n",
    " - Большинство недвижимости:\n",
    "    \n",
    " - Общей площадью 30-60м - с жилой площадью 10-40м и кухней размером 5-12м.\n",
    " - Имеют 1-3 комнаты (в среднем 2) и высоту потолков 2.5-3м. \n",
    " - Находятся на высоте до 8 этажа в домах высотой 5-10 этажей, причем на первом и последнем этаже находится всего около 30% недвижимости.\n",
    " \n",
    " - Цена недвижимости в основном распределена до 10млн., в среднем - 6.5млн.\n",
    "\n",
    " - Большинство недвижимости находится на расстоянии 10-20км. от центра города и 20-30км. от аэропорта.\n",
    " - Внушительная часть недвижимости (60%) не имеет информации о нахождении парка вблизи от себя; возможно, что данный параметр не считается важным при продаже или просто говорит об отсутствии парка рядом.\n",
    " - В большинстве остальных случаев парк находится на расстоянии до 600м.\n",
    "\n",
    " - Распределение по дню и месяцу публикации объявлений о продаже недвижимости достаточно плавное, однако чаще всего объявления появлялись весной и осенью."
   ]
  },
  {
   "cell_type": "markdown",
   "id": "6c44255f",
   "metadata": {},
   "source": [
    "## Как быстро продавались квартиры "
   ]
  },
  {
   "cell_type": "code",
   "execution_count": 57,
   "id": "7346b10d",
   "metadata": {},
   "outputs": [
    {
     "name": "stdout",
     "output_type": "stream",
     "text": [
      "*Пропущено значений* - 2977\n"
     ]
    },
    {
     "data": {
      "text/plain": [
       "<AxesSubplot:title={'center':'Скорость продажи квартир в днях'}, ylabel='Frequency'>"
      ]
     },
     "execution_count": 57,
     "metadata": {},
     "output_type": "execute_result"
    },
    {
     "data": {
      "image/png": "[encoded data removed]",
      "text/plain": [
       "<Figure size 432x288 with 1 Axes>"
      ]
     },
     "metadata": {
      "needs_background": "light"
     },
     "output_type": "display_data"
    }
   ],
   "source": [
    "# Оценим кол-во пропусков данных\n",
    "print('*Пропущено значений* - {0}'.format(data['days_exposition'].isna().sum()))\n",
    "\n",
    "# Выведем гистограмму продажи квартир в днях\n",
    "data['days_exposition'].plot(kind='hist', title='Скорость продажи квартир в днях', grid=True, bins=20, range=(0,1400))"
   ]
  },
  {
   "cell_type": "code",
   "execution_count": 58,
   "id": "13114516",
   "metadata": {},
   "outputs": [
    {
     "name": "stdout",
     "output_type": "stream",
     "text": [
      "Средняя скорость продажи в днях - 184\n",
      "Медиана скорости продажи в днях - 101\n"
     ]
    }
   ],
   "source": [
    "# Посчитаем среднее и медиану\n",
    "\n",
    "print('Средняя скорость продажи в днях - {0}'.format(int(data['days_exposition'].mean())))\n",
    "print('Медиана скорости продажи в днях - {0}'.format(int(data['days_exposition'].median())))"
   ]
  },
  {
   "cell_type": "code",
   "execution_count": 59,
   "id": "22e3d231",
   "metadata": {},
   "outputs": [
    {
     "data": {
      "text/plain": [
       "count    18786.000000\n",
       "mean       184.962685\n",
       "std        221.315363\n",
       "min          1.000000\n",
       "25%         44.000000\n",
       "50%        101.500000\n",
       "75%        239.000000\n",
       "max       1580.000000\n",
       "Name: days_exposition, dtype: float64"
      ]
     },
     "execution_count": 59,
     "metadata": {},
     "output_type": "execute_result"
    }
   ],
   "source": [
    "# Посмотрим общую статистическую информацию о скорости продажи квартир\n",
    "\n",
    "data['days_exposition'].describe()"
   ]
  },
  {
   "cell_type": "markdown",
   "id": "22635970",
   "metadata": {},
   "source": [
    "<div class=\"alert alert-success\" role=\"alert\">\n",
    "\n",
    "  **Вывод**\n",
    " \n",
    " - Продажа недвижимости занимает в среднем от 3мес. до полугода.\n",
    " - Судя по достаточно большой разнице между средним и медианой в скорости продажи квартир существует довольно большой разброс (есть слишком большие или слишком маленькие значения).\n",
    " \n",
    " \n",
    " - Оценить слишком быстрые или очень медленные продажи было бы целесообразно с помощью квартилей.\n",
    " - В квартилях Q1 - 45 дней, Q3 - 231 день.\n",
    " - Таким образом все продажи, которые заняли меньше, чем 1.5мес. можно назвать быстрыми, а продажи дольше 8мес. - долгими."
   ]
  },
  {
   "cell_type": "markdown",
   "id": "8c623a7b",
   "metadata": {},
   "source": [
    "## Какие факторы больше всего влияют на стоимость объекта"
   ]
  },
  {
   "cell_type": "markdown",
   "id": "fab4e8f4",
   "metadata": {},
   "source": [
    "<div class=\"alert alert-warning\">\n",
    "\n",
    "Необходимо выяснить, есть ли зависимость между стоимостью и:\n",
    " - общей S;\n",
    " - жилой S;\n",
    " - S кухни;\n",
    " - кол-вом комнат;\n",
    " - этажом, на котором расположена квартира (первый, последний, другой);\n",
    " - датой размещения (день недели, месяц, год)."
   ]
  },
  {
   "cell_type": "code",
   "execution_count": 60,
   "id": "a2675f55",
   "metadata": {},
   "outputs": [
    {
     "data": {
      "text/plain": [
       "<AxesSubplot:title={'center':'Зависимость цены от общей S'}, xlabel='total_area'>"
      ]
     },
     "execution_count": 60,
     "metadata": {},
     "output_type": "execute_result"
    },
    {
     "data": {
      "image/png": "[encoded data removed]",
      "text/plain": [
       "<Figure size 1080x360 with 1 Axes>"
      ]
     },
     "metadata": {
      "needs_background": "light"
     },
     "output_type": "display_data"
    }
   ],
   "source": [
    "# Цена и общая S\n",
    "\n",
    "# Для визуализации данных сначала используем сводную таблицу, затем по ней построим гистограмму\n",
    "(\n",
    "data\n",
    "    .pivot_table(index='total_area', values='last_price')\n",
    "    .plot(title='Зависимость цены от общей S', style='o-', grid=True, figsize=(15,5))\n",
    ")"
   ]
  },
  {
   "cell_type": "code",
   "execution_count": 61,
   "id": "99f386e2",
   "metadata": {},
   "outputs": [
    {
     "data": {
      "text/plain": [
       "<AxesSubplot:title={'center':'Зависимость цены от жилой S'}, xlabel='living_area'>"
      ]
     },
     "execution_count": 61,
     "metadata": {},
     "output_type": "execute_result"
    },
    {
     "data": {
      "image/png": "[encoded data removed]",
      "text/plain": [
       "<Figure size 1080x360 with 1 Axes>"
      ]
     },
     "metadata": {
      "needs_background": "light"
     },
     "output_type": "display_data"
    }
   ],
   "source": [
    "# Цена и жилая S\n",
    "\n",
    "# Для визуализации данных сначала используем сводную таблицу, затем по ней построим гистограмму\n",
    "(\n",
    "data\n",
    "    .pivot_table(index='living_area', values='last_price')\n",
    "    .plot(title='Зависимость цены от жилой S', style='o-', grid=True, figsize=(15,5))\n",
    ")"
   ]
  },
  {
   "cell_type": "code",
   "execution_count": 62,
   "id": "bae1df6c",
   "metadata": {},
   "outputs": [
    {
     "data": {
      "text/plain": [
       "<AxesSubplot:title={'center':'Зависимость цены от S кухни'}, xlabel='kitchen_area'>"
      ]
     },
     "execution_count": 62,
     "metadata": {},
     "output_type": "execute_result"
    },
    {
     "data": {
      "image/png": "[encoded data removed]",
      "text/plain": [
       "<Figure size 1080x360 with 1 Axes>"
      ]
     },
     "metadata": {
      "needs_background": "light"
     },
     "output_type": "display_data"
    }
   ],
   "source": [
    "# Цена и S кухни\n",
    "\n",
    "# Для визуализации данных сначала используем сводную таблицу, затем по ней построим гистограмму\n",
    "(\n",
    "data\n",
    "    .pivot_table(index='kitchen_area', values='last_price')\n",
    "    .plot(title='Зависимость цены от S кухни', style='o-', grid=True, figsize=(15,5))\n",
    ")"
   ]
  },
  {
   "cell_type": "markdown",
   "id": "ff399ec1",
   "metadata": {},
   "source": [
    "<div class=\"alert alert-info\">\n",
    "\n",
    " - Можно заметить в достаточной мере сильную линейную связь между площадью и ценой объекта. Чем больше S - тем больше цена.\n",
    " - Площадь кухни чуть менее влияет на цену объекта по сравнению с общей и жилой площадью. Кроме того, логично предположить, что площадь кухни, а также жилая площадь также имеют зависимость от общей площади объекта.\n",
    " - При увеличении S, начиная с определенного момента, цена может резко возрастать (объекты с 400м общей площади, 200м жилой, более 100м площади кухни) - возможно такое влияние на графики оказывают опеределнные объекты, сильно выделяющиеся ценой, т.к. дальнейшее увеличение графиков общей и дилой площади более плавное."
   ]
  },
  {
   "cell_type": "code",
   "execution_count": 63,
   "id": "bb247d59",
   "metadata": {},
   "outputs": [
    {
     "data": {
      "text/plain": [
       "<AxesSubplot:title={'center':'Зависимость цены от кол-ва комнат'}, xlabel='rooms'>"
      ]
     },
     "execution_count": 63,
     "metadata": {},
     "output_type": "execute_result"
    },
    {
     "data": {
      "image/png": "[encoded data removed]",
      "text/plain": [
       "<Figure size 720x360 with 1 Axes>"
      ]
     },
     "metadata": {
      "needs_background": "light"
     },
     "output_type": "display_data"
    }
   ],
   "source": [
    "# Цена и кол-во комнат\n",
    "\n",
    "# Для визуализации данных сначала используем сводную таблицу, затем по ней построим гистограмму\n",
    "(\n",
    "data\n",
    "    .pivot_table(index='rooms', values='last_price')\n",
    "    .plot(title='Зависимость цены от кол-ва комнат', style='o-', grid=True, figsize=(10,5))\n",
    ")"
   ]
  },
  {
   "cell_type": "markdown",
   "id": "c85e366a",
   "metadata": {},
   "source": [
    "<div class=\"alert alert-info\">\n",
    "\n",
    "- Возрастание цены объекта в зависимости от кол-ва комнат в нем достаточно плавное, за исключением объекта\\объектов с 12 комнатами - у них цена сильно завышена, возможно это связано с расположением объекта или же другими факторами."
   ]
  },
  {
   "cell_type": "code",
   "execution_count": 64,
   "id": "d4154842",
   "metadata": {},
   "outputs": [
    {
     "data": {
      "text/plain": [
       "<AxesSubplot:title={'center':'Зависимость цены от типа этажа'}, xlabel='type_floor'>"
      ]
     },
     "execution_count": 64,
     "metadata": {},
     "output_type": "execute_result"
    },
    {
     "data": {
      "image/png": "[encoded data removed]",
      "text/plain": [
       "<Figure size 720x360 with 1 Axes>"
      ]
     },
     "metadata": {
      "needs_background": "light"
     },
     "output_type": "display_data"
    }
   ],
   "source": [
    "# Цена и этаж \n",
    "\n",
    "# Для визуализации данных сначала используем сводную таблицу, затем по ней построим гистограмму\n",
    "(\n",
    "data\n",
    "    .pivot_table(index='type_floor', values='last_price')\n",
    "    .plot(kind='bar', title='Зависимость цены от типа этажа', grid=True, figsize=(10,5))\n",
    ")"
   ]
  },
  {
   "cell_type": "markdown",
   "id": "0bba06f6",
   "metadata": {},
   "source": [
    "<div class=\"alert alert-info\">\n",
    "\n",
    "- Недвижимость на первом этаже имеет более низкую цену. Чем выше этаж, тем выше цена."
   ]
  },
  {
   "cell_type": "code",
   "execution_count": 65,
   "id": "1ccf5526",
   "metadata": {},
   "outputs": [
    {
     "data": {
      "text/plain": [
       "<AxesSubplot:title={'center':'Зависимость цены от даты'}, xlabel='first_day_exposition'>"
      ]
     },
     "execution_count": 65,
     "metadata": {},
     "output_type": "execute_result"
    },
    {
     "data": {
      "image/png": "[encoded data removed]",
      "text/plain": [
       "<Figure size 720x144 with 1 Axes>"
      ]
     },
     "metadata": {
      "needs_background": "light"
     },
     "output_type": "display_data"
    },
    {
     "data": {
      "image/png": "[encoded data removed]",
      "text/plain": [
       "<Figure size 1440x288 with 1 Axes>"
      ]
     },
     "metadata": {
      "needs_background": "light"
     },
     "output_type": "display_data"
    }
   ],
   "source": [
    "# Цена и дата размещения \n",
    "\n",
    "# Для визуализации данных сначала используем сводную таблицу, затем по ней построим гистограмму\n",
    "# Сначала посмотрим общее распределение по годам\n",
    "(\n",
    "data\n",
    "    .pivot_table(index='year_exposition', values='last_price')\n",
    "    .plot(title='Зависимость цены от года', style='o-', grid=True, figsize=(10,2))\n",
    ")\n",
    "# Затем распределение по датам (день, месяц, год)\n",
    "(\n",
    "data\n",
    "    .pivot_table(index='first_day_exposition', values='last_price')\n",
    "    .plot(title='Зависимость цены от даты', style='o-', grid=True, figsize=(20,4))\n",
    ")"
   ]
  },
  {
   "cell_type": "markdown",
   "id": "d4c2c707",
   "metadata": {},
   "source": [
    "<div class=\"alert alert-info\"> \n",
    " \n",
    " - При ориентировке на год размещения объявления о продаже заметно сильное падение цен с 2014 вплоть до 2018 года, затем цены вновь начали возрастать.\n",
    " - При более детальном изучении заметен сильный скачок цен в 2015 году. Большинство цен распределено равномерно, однако существуют объявления, сильно выделяющиеся из общей массы своей ценой (дорогие квартиры). "
   ]
  },
  {
   "cell_type": "code",
   "execution_count": 83,
   "id": "7556c255",
   "metadata": {},
   "outputs": [
    {
     "data": {
      "text/plain": [
       "<AxesSubplot:title={'center':'Распределение общей площади продаваемой недвижимости по годам'}, xlabel='year_exposition'>"
      ]
     },
     "execution_count": 83,
     "metadata": {},
     "output_type": "execute_result"
    },
    {
     "data": {
      "image/png": "[encoded data removed]",
      "text/plain": [
       "<Figure size 720x144 with 1 Axes>"
      ]
     },
     "metadata": {
      "needs_background": "light"
     },
     "output_type": "display_data"
    },
    {
     "data": {
      "image/png": "[encoded data removed]",
      "text/plain": [
       "<Figure size 720x144 with 1 Axes>"
      ]
     },
     "metadata": {
      "needs_background": "light"
     },
     "output_type": "display_data"
    }
   ],
   "source": [
    "# Проверим зависимость цены кв.м. от даты размещения, а также динамику изменения площади продаваемых квартир по годам\n",
    "\n",
    "# Зависимость цены кв.м. от даты размещения\n",
    "(\n",
    "data\n",
    "    .pivot_table(index='year_exposition', values='price_square_meter', aggfunc='median')\n",
    "    .plot(title='Зависимость цены кв.м от года', style='o-', grid=True, figsize=(10,2))\n",
    ")\n",
    "# Динамика изменения площади продаваемых квартир по годам\n",
    "(\n",
    "data\n",
    "    .pivot_table(index='year_exposition', values='total_area', aggfunc='median')\n",
    "    .plot(title='Распределение общей площади продаваемой недвижимости по годам', style='o-', grid=True, figsize=(10,2))\n",
    ")"
   ]
  },
  {
   "cell_type": "markdown",
   "id": "88fb9dc2",
   "metadata": {},
   "source": [
    "<div class=\"alert alert-info\">  \n",
    " \n",
    " - При более детальном рассмотрении видно, что спад цен (в расчете за 1 кв.м.) продолжался до 2016 года, а затем цены начали расти.\n",
    " - По графику распределения площади продаваемых квартир видно, что общий спад цен после 2014 года вызван тем, что продаваемая недвижимость стала обладать меньшей площадью.\n",
    " - При этом, несмотря на уменьшающуюся площадь, цены на недвижимость в целом стали довольно сильно возрастать после 2016 года."
   ]
  },
  {
   "cell_type": "markdown",
   "id": "d1a8a242",
   "metadata": {},
   "source": [
    "## Средняя цена одного квадратного метра в 10 населённых пунктах с наибольшим числом объявлений"
   ]
  },
  {
   "cell_type": "code",
   "execution_count": 70,
   "id": "1fc80d64",
   "metadata": {},
   "outputs": [
    {
     "name": "stdout",
     "output_type": "stream",
     "text": [
      "Населенных пунктов \"посёлок\" - 507\n",
      "Анализ проведется для 21256 населенных пунктов\n"
     ]
    }
   ],
   "source": [
    "# Обратим внимание, что в названиях населенных пунктов есть название 'посёлок', без указания названия\n",
    "# Исключим его датафрайма для проведения анализа\n",
    "\n",
    "print('Населенных пунктов \"посёлок\" - {0}'.format(data.loc[data['locality_name'] == 'посёлок', 'locality_name'].count()))\n",
    "data = data.loc[data['locality_name'] != 'посёлок']\n",
    "print('Анализ проведется для {0} населенных пунктов'.format(data['locality_name'].count()))"
   ]
  },
  {
   "cell_type": "code",
   "execution_count": 71,
   "id": "84f68a62",
   "metadata": {},
   "outputs": [
    {
     "name": "stdout",
     "output_type": "stream",
     "text": [
      "Санкт-Петербург      14560\n",
      "Мурино                 490\n",
      "Кудрово                424\n",
      "посёлок Шушары         404\n",
      "Всеволожск             371\n",
      "Пушкин                 345\n",
      "Колпино                328\n",
      "посёлок Парголово      301\n",
      "Гатчина                291\n",
      "Петергоф               197\n",
      "Name: locality_name, dtype: int64\n"
     ]
    }
   ],
   "source": [
    "# Выведем топ-10 населенных пунктов с наибольшим числом объявлений\n",
    "top_10_locality = data['locality_name'].value_counts().head(10)\n",
    "print(top_10_locality)"
   ]
  },
  {
   "cell_type": "code",
   "execution_count": 72,
   "id": "b98f92c5",
   "metadata": {},
   "outputs": [
    {
     "name": "stdout",
     "output_type": "stream",
     "text": [
      "{'Санкт-Петербург': 14560, 'Мурино': 490, 'Кудрово': 424, 'посёлок Шушары': 404, 'Всеволожск': 371, 'Пушкин': 345, 'Колпино': 328, 'посёлок Парголово': 301, 'Гатчина': 291, 'Петергоф': 197}\n"
     ]
    }
   ],
   "source": [
    "# Преобразуем Series в словарь для последующей работы\n",
    "top_10_locality = top_10_locality.to_dict()\n",
    "print(top_10_locality)"
   ]
  },
  {
   "cell_type": "code",
   "execution_count": 73,
   "id": "6b43a2dc",
   "metadata": {},
   "outputs": [
    {
     "name": "stdout",
     "output_type": "stream",
     "text": [
      "[114.15628188181823, 86.68589814013343, 95.71557046594083, 78.886349014096, 68.87959622975258, 103.42835116076598, 75.34391267167285, 90.44248404609229, 68.63906454375096, 84.480969943731]\n"
     ]
    }
   ],
   "source": [
    "# Создадим цикл, который пройдет по топ-10 населенным пунктам и вычислит среднюю цену за кв.м., разделив цену на плодащь объекта\n",
    "\n",
    "means_top_10 = [] # Список вернет среднюю цену кв. метра по топ-10 населенным пунктам \n",
    "for name in top_10_locality: \n",
    "    means_top_10.append(data.loc[data['locality_name'] == name, 'price_square_meter'].mean())\n",
    "\n",
    "print(means_top_10) "
   ]
  },
  {
   "cell_type": "code",
   "execution_count": 74,
   "id": "451ed052",
   "metadata": {},
   "outputs": [
    {
     "name": "stdout",
     "output_type": "stream",
     "text": [
      "                   Кол-во объявлений  Средняя цена за кв.м.\n",
      "Санкт-Петербург                14560             114.156282\n",
      "Мурино                           490              86.685898\n",
      "Кудрово                          424              95.715570\n",
      "посёлок Шушары                   404              78.886349\n",
      "Всеволожск                       371              68.879596\n",
      "Пушкин                           345             103.428351\n",
      "Колпино                          328              75.343913\n",
      "посёлок Парголово                301              90.442484\n",
      "Гатчина                          291              68.639065\n",
      "Петергоф                         197              84.480970\n"
     ]
    }
   ],
   "source": [
    "# Создадим датафрейм, который будет хранить имя населенного пункта, кол-во объявлений и среднюю цену на кв.м.\n",
    "\n",
    "mean_price_top_10 = pd.DataFrame.from_dict(top_10_locality, orient='index')\n",
    "mean_price_top_10 .columns=['Кол-во объявлений']\n",
    "mean_price_top_10['Средняя цена за кв.м.'] = means_top_10\n",
    "print(mean_price_top_10)"
   ]
  },
  {
   "cell_type": "code",
   "execution_count": 75,
   "id": "cc543613",
   "metadata": {},
   "outputs": [
    {
     "data": {
      "text/plain": [
       "<AxesSubplot:title={'center':'Средняя цена за кв.м.(в тысячах)\\n Топ-10 популярных населенных пунктов'}>"
      ]
     },
     "execution_count": 75,
     "metadata": {},
     "output_type": "execute_result"
    },
    {
     "data": {
      "image/png": "[encoded data removed]",
      "text/plain": [
       "<Figure size 720x360 with 1 Axes>"
      ]
     },
     "metadata": {
      "needs_background": "light"
     },
     "output_type": "display_data"
    }
   ],
   "source": [
    "# Построим график, показывающий распределение цены за кв.м по населенным пунктам\n",
    "\n",
    "mean_price_top_10.plot(\n",
    "    kind='bar', \n",
    "    title='Средняя цена за кв.м.(в тысячах)\\n Топ-10 популярных населенных пунктов', \n",
    "    y='Средняя цена за кв.м.',\n",
    "    figsize=(10,5)\n",
    ")"
   ]
  },
  {
   "cell_type": "markdown",
   "id": "a1f2b941",
   "metadata": {},
   "source": [
    "<div class=\"alert alert-info\"> \n",
    " \n",
    " - Самая высокая цена за кв.м. ожидаемо в Санкт-Петербурге - 114тыс. за кв.м.\n",
    " - Второй самый дорогой населенный пункт - Пушкин.\n",
    " - Самое дешевое жилье в Выборге - 58тыс. за кв.м."
   ]
  },
  {
   "cell_type": "markdown",
   "id": "b0e298bc",
   "metadata": {},
   "source": [
    "##  Средняя цена каждого километра (Санкт-Петербург)"
   ]
  },
  {
   "cell_type": "code",
   "execution_count": 76,
   "id": "87e73c5a",
   "metadata": {},
   "outputs": [
    {
     "name": "stdout",
     "output_type": "stream",
     "text": [
      "[23827.975, 19136.754464285714, 16522.825342465752, 13220.850806451614, 13091.650966183575, 14850.59649122807, 13412.483009708738, 13015.419689119171, 8417.860841423948, 6432.276995305165, 6353.4617224880385, 5942.5571321882, 5986.936842105263, 6006.9583963691375, 5698.208540925267, 5563.739332816137, 5475.151811949069, 4899.7330595482545, 5428.441717791411, 4680.641975308642, 6169.757575757576, 5032.578313253012, 5326.704918032787, 4196.642857142857, 3883.684210526316, 4013.8115942028985, 3575.0, 8300.0, 4910.5, 3833.3333333333335, nan]\n"
     ]
    }
   ],
   "source": [
    "# Будем работать только с данными по Санкт-Петербургу, а также отсортируем датафрейм по расстоянию в километрах\n",
    "# Затем создадим цикл, который пройдется по всем уникальным значениям км в Санкт-Петербурге и выведет для них среднюю цену\n",
    "\n",
    "data_piter = data.loc[data['locality_name'] == 'Санкт-Петербург']\n",
    "data_piter = data_piter.sort_values(by='centre_distance')\n",
    "\n",
    "means_km = [] # Список вернет среднюю цену от дальности в км.\n",
    "for km in data_piter['centre_distance'].unique():\n",
    "    means_km.append(data_piter.loc[data_piter['centre_distance'] == km, 'last_price'].mean())\n",
    "\n",
    "print(means_km)"
   ]
  },
  {
   "cell_type": "code",
   "execution_count": 77,
   "id": "bccb9865",
   "metadata": {},
   "outputs": [
    {
     "data": {
      "text/plain": [
       "<AxesSubplot:title={'center':'Распределение цены от дальности центра Санкт-Петербурга'}, xlabel='Кол-во км. от центра', ylabel='Цена'>"
      ]
     },
     "execution_count": 77,
     "metadata": {},
     "output_type": "execute_result"
    },
    {
     "data": {
      "image/png": "[encoded data removed]",
      "text/plain": [
       "<Figure size 1080x360 with 1 Axes>"
      ]
     },
     "metadata": {
      "needs_background": "light"
     },
     "output_type": "display_data"
    }
   ],
   "source": [
    "# Создадим датафрейм и построим по нему график распределения цены от дальности расположения\n",
    "\n",
    "means_piter_km_price = pd.DataFrame(data=means_km, index=data_piter['centre_distance'].unique())\n",
    "means_piter_km_price.plot(kind='bar', \n",
    "                          title='Распределение цены от дальности центра Санкт-Петербурга', \n",
    "                          xlabel='Кол-во км. от центра',\n",
    "                          ylabel='Цена',\n",
    "                          figsize=(15,5)\n",
    "                         )"
   ]
  },
  {
   "cell_type": "markdown",
   "id": "93e311bf",
   "metadata": {},
   "source": [
    "<div class=\"alert alert-info\">\n",
    "    \n",
    " - Учтем, что для подготовки данных (в том числе замены некоторых пропусков в колонке locality_name ранее) центральная точка условно взята как район Дворцовой площади, т.к. в описании датасета это не указан точный объект.\n",
    "    \n",
    "    \n",
    " - В целом наблюдается общая тенденция - чем ближе к центру находится объект, тем выше у него цена.\n",
    " - Есть несколько выделяющихся на общем фоне объектов (особенно резкое повышение цены на 27км.), однако это может быть связано с другими факторами - например, данные объект выделяется площадью по сравнению с остальными, поэтому его цена выше."
   ]
  },
  {
   "cell_type": "markdown",
   "id": "20c6114d",
   "metadata": {},
   "source": [
    "# Общий вывод"
   ]
  },
  {
   "cell_type": "markdown",
   "id": "b6c21513",
   "metadata": {},
   "source": [
    "<div class=\"alert alert-danger\" role=\"alert\">\n",
    "\n",
    "\n",
    "**Общие особенности недвижимости**\n",
    "   \n",
    "   Большинство объектов:\n",
    "\n",
    " - Общей площадью 30-60м, с жилой площадью 10-40м и кухней размером 5-12м.\n",
    " - Имеют 1-3 комнаты и высоту потолков 2.5-3м. \n",
    " - Находятся на высоте до 8 этажа в домах высотой 5-10 этажей, причем на первом и последнем этаже находится всего около 30% недвижимости.\n",
    "  \n",
    "  \n",
    " - Цена в основном распределена до 10млн., в среднем - 6.5млн.\n",
    " - Большинство недвижимости находится на расстоянии 10-20км. от центра города и 20-30км. от аэропорта.\n",
    " - Внушительная часть недвижимости (60%) не имеет информации о нахождении парка вблизи от себя; возможно, что данный параметр не считается важным при продаже или просто говорит об отсутствии парка рядом. В большинстве остальных случаев парк находится на расстоянии 600м.\n",
    "\n",
    "\n",
    " **Особенности продажи недвижимости**\n",
    " - Распределение по дню и месяцу у публикаций объявлений о продаже достаточно плавное, однако чаще всего объявления появлялись весной и осенью.\n",
    " - Продажа занимает в среднем от 3мес. до полугода.\n",
    " - Судя по достаточно большой разнице между средним и медианой в скорости продажи квартир существует довольно большой разброс (есть слишком быстрые или слишком долгие продажи).\n",
    " - Продажи, которые заняли меньше, чем 1.5мес. можно назвать быстрыми, а продажи дольше 8мес. - долгими.\n",
    " \n",
    " \n",
    " **Связь цены и параметров недвижимости**\n",
    " \n",
    " \n",
    "*Площадь недвижимости*\n",
    " - Существует достоточно сильная связь между площадью и ценой объекта. Чем больше площадь - тем больше цена.\n",
    " - Площадь кухни чуть менее влияет на цену объекта по сравнению с общей и жилой площадью.\n",
    " \n",
    "*Этаж недвижимости*\n",
    " - Недвижимость на первом этаже имеет более низкую цену. Чем выше этаж, тем выше цена.\n",
    " \n",
    "*Расположение недвижимости*\n",
    " - Достаточно сильно выделяется тенденция - чем ближе к центру находится объект, тем выше у него цена.\n",
    " - Самая высокая цена за кв.м. ожидаемо в Санкт-Петербурге - 114тыс. за кв.м.; второй самый дорогой населенный пункт - Пушкин.\n",
    " - Самое дешевое жилье в Выборге - 58тыс. за кв.м.\n",
    "\n",
    "    \n",
    "*Год продажи*\n",
    " - Заметно падение цен на недвижимость с 2014 до 2016 года в расчете за 1кв.м., затем цены начали довольно сильно расти. \n",
    " - Плодащь продаваемой недвижимости с 2014 по 2018 года уменьшалась, поэтому уменьшалась и общая сумма продаж."
   ]
  }
 ],
 "metadata": {
  "ExecuteTimeLog": [
   {
    "duration": 682,
    "start_time": "2022-10-14T14:57:01.802Z"
   },
   {
    "duration": 160,
    "start_time": "2022-10-14T14:57:02.486Z"
   },
   {
    "duration": 0,
    "start_time": "2022-10-14T14:57:02.649Z"
   },
   {
    "duration": 0,
    "start_time": "2022-10-14T14:57:02.651Z"
   },
   {
    "duration": 0,
    "start_time": "2022-10-14T14:57:02.652Z"
   },
   {
    "duration": 0,
    "start_time": "2022-10-14T14:57:02.653Z"
   },
   {
    "duration": 0,
    "start_time": "2022-10-14T14:57:02.655Z"
   },
   {
    "duration": 0,
    "start_time": "2022-10-14T14:57:02.656Z"
   },
   {
    "duration": 0,
    "start_time": "2022-10-14T14:57:02.657Z"
   },
   {
    "duration": 0,
    "start_time": "2022-10-14T14:57:02.658Z"
   },
   {
    "duration": 0,
    "start_time": "2022-10-14T14:57:02.659Z"
   },
   {
    "duration": 0,
    "start_time": "2022-10-14T14:57:02.660Z"
   },
   {
    "duration": 0,
    "start_time": "2022-10-14T14:57:02.661Z"
   },
   {
    "duration": 0,
    "start_time": "2022-10-14T14:57:02.662Z"
   },
   {
    "duration": 0,
    "start_time": "2022-10-14T14:57:02.663Z"
   },
   {
    "duration": 0,
    "start_time": "2022-10-14T14:57:02.665Z"
   },
   {
    "duration": 0,
    "start_time": "2022-10-14T14:57:02.666Z"
   },
   {
    "duration": 0,
    "start_time": "2022-10-14T14:57:02.668Z"
   },
   {
    "duration": 0,
    "start_time": "2022-10-14T14:57:02.669Z"
   },
   {
    "duration": 0,
    "start_time": "2022-10-14T14:57:02.671Z"
   },
   {
    "duration": 0,
    "start_time": "2022-10-14T14:57:02.672Z"
   },
   {
    "duration": 0,
    "start_time": "2022-10-14T14:57:02.674Z"
   },
   {
    "duration": 0,
    "start_time": "2022-10-14T14:57:02.675Z"
   },
   {
    "duration": 0,
    "start_time": "2022-10-14T14:57:02.676Z"
   },
   {
    "duration": 0,
    "start_time": "2022-10-14T14:57:02.678Z"
   },
   {
    "duration": 0,
    "start_time": "2022-10-14T14:57:02.722Z"
   },
   {
    "duration": 0,
    "start_time": "2022-10-14T14:57:02.724Z"
   },
   {
    "duration": 0,
    "start_time": "2022-10-14T14:57:02.725Z"
   },
   {
    "duration": 0,
    "start_time": "2022-10-14T14:57:02.726Z"
   },
   {
    "duration": 0,
    "start_time": "2022-10-14T14:57:02.728Z"
   },
   {
    "duration": 0,
    "start_time": "2022-10-14T14:57:02.729Z"
   },
   {
    "duration": 0,
    "start_time": "2022-10-14T14:57:02.731Z"
   },
   {
    "duration": 0,
    "start_time": "2022-10-14T14:57:02.732Z"
   },
   {
    "duration": 0,
    "start_time": "2022-10-14T14:57:02.733Z"
   },
   {
    "duration": 0,
    "start_time": "2022-10-14T14:57:02.735Z"
   },
   {
    "duration": 0,
    "start_time": "2022-10-14T14:57:02.736Z"
   },
   {
    "duration": 0,
    "start_time": "2022-10-14T14:57:02.738Z"
   },
   {
    "duration": 0,
    "start_time": "2022-10-14T14:57:02.739Z"
   },
   {
    "duration": 0,
    "start_time": "2022-10-14T14:57:02.740Z"
   },
   {
    "duration": 0,
    "start_time": "2022-10-14T14:57:02.742Z"
   },
   {
    "duration": 0,
    "start_time": "2022-10-14T14:57:02.743Z"
   },
   {
    "duration": 1,
    "start_time": "2022-10-14T14:57:02.744Z"
   },
   {
    "duration": 0,
    "start_time": "2022-10-14T14:57:02.746Z"
   },
   {
    "duration": 0,
    "start_time": "2022-10-14T14:57:02.747Z"
   },
   {
    "duration": 0,
    "start_time": "2022-10-14T14:57:02.749Z"
   },
   {
    "duration": 0,
    "start_time": "2022-10-14T14:57:02.750Z"
   },
   {
    "duration": 0,
    "start_time": "2022-10-14T14:57:02.752Z"
   },
   {
    "duration": 0,
    "start_time": "2022-10-14T14:57:02.753Z"
   },
   {
    "duration": 0,
    "start_time": "2022-10-14T14:57:02.754Z"
   },
   {
    "duration": 0,
    "start_time": "2022-10-14T14:57:02.756Z"
   },
   {
    "duration": 0,
    "start_time": "2022-10-14T14:57:02.757Z"
   },
   {
    "duration": 0,
    "start_time": "2022-10-14T14:57:02.758Z"
   },
   {
    "duration": 0,
    "start_time": "2022-10-14T14:57:02.760Z"
   },
   {
    "duration": 0,
    "start_time": "2022-10-14T14:57:02.761Z"
   },
   {
    "duration": 0,
    "start_time": "2022-10-14T14:57:02.822Z"
   },
   {
    "duration": 0,
    "start_time": "2022-10-14T14:57:02.823Z"
   },
   {
    "duration": 0,
    "start_time": "2022-10-14T14:57:02.825Z"
   },
   {
    "duration": 0,
    "start_time": "2022-10-14T14:57:02.826Z"
   },
   {
    "duration": 0,
    "start_time": "2022-10-14T14:57:02.827Z"
   },
   {
    "duration": 0,
    "start_time": "2022-10-14T14:57:02.828Z"
   },
   {
    "duration": 0,
    "start_time": "2022-10-14T14:57:02.829Z"
   },
   {
    "duration": 0,
    "start_time": "2022-10-14T14:57:02.830Z"
   },
   {
    "duration": 0,
    "start_time": "2022-10-14T14:57:02.831Z"
   },
   {
    "duration": 0,
    "start_time": "2022-10-14T14:57:02.832Z"
   },
   {
    "duration": 0,
    "start_time": "2022-10-14T14:57:02.833Z"
   },
   {
    "duration": 4,
    "start_time": "2022-10-15T09:58:47.659Z"
   },
   {
    "duration": 851,
    "start_time": "2022-10-15T09:58:52.624Z"
   },
   {
    "duration": 3,
    "start_time": "2022-10-15T09:58:53.477Z"
   },
   {
    "duration": 131,
    "start_time": "2022-10-15T09:58:53.481Z"
   },
   {
    "duration": 44,
    "start_time": "2022-10-15T09:58:53.614Z"
   },
   {
    "duration": 18,
    "start_time": "2022-10-15T09:58:53.659Z"
   },
   {
    "duration": 1926,
    "start_time": "2022-10-15T09:58:53.679Z"
   },
   {
    "duration": 8,
    "start_time": "2022-10-15T09:58:55.607Z"
   },
   {
    "duration": 1423,
    "start_time": "2022-10-15T09:58:55.617Z"
   },
   {
    "duration": 394,
    "start_time": "2022-10-15T09:58:57.042Z"
   },
   {
    "duration": 5006,
    "start_time": "2022-10-15T09:58:57.438Z"
   },
   {
    "duration": 11,
    "start_time": "2022-10-15T09:59:02.446Z"
   },
   {
    "duration": 44,
    "start_time": "2022-10-15T09:59:02.458Z"
   },
   {
    "duration": 6,
    "start_time": "2022-10-15T09:59:02.504Z"
   },
   {
    "duration": 25,
    "start_time": "2022-10-15T09:59:02.511Z"
   },
   {
    "duration": 27,
    "start_time": "2022-10-15T09:59:02.538Z"
   },
   {
    "duration": 34,
    "start_time": "2022-10-15T09:59:02.567Z"
   },
   {
    "duration": 34,
    "start_time": "2022-10-15T09:59:02.602Z"
   },
   {
    "duration": 139,
    "start_time": "2022-10-15T09:59:02.638Z"
   },
   {
    "duration": 21,
    "start_time": "2022-10-15T09:59:02.778Z"
   },
   {
    "duration": 9,
    "start_time": "2022-10-15T09:59:02.801Z"
   },
   {
    "duration": 26,
    "start_time": "2022-10-15T09:59:02.812Z"
   },
   {
    "duration": 23,
    "start_time": "2022-10-15T09:59:02.840Z"
   },
   {
    "duration": 9,
    "start_time": "2022-10-15T09:59:02.865Z"
   },
   {
    "duration": 31,
    "start_time": "2022-10-15T09:59:02.876Z"
   },
   {
    "duration": 22,
    "start_time": "2022-10-15T09:59:02.908Z"
   },
   {
    "duration": 33,
    "start_time": "2022-10-15T09:59:02.932Z"
   },
   {
    "duration": 572,
    "start_time": "2022-10-15T09:59:02.966Z"
   },
   {
    "duration": 25,
    "start_time": "2022-10-15T09:59:03.541Z"
   },
   {
    "duration": 15,
    "start_time": "2022-10-15T09:59:03.568Z"
   },
   {
    "duration": 18,
    "start_time": "2022-10-15T09:59:03.585Z"
   },
   {
    "duration": 6,
    "start_time": "2022-10-15T09:59:03.605Z"
   },
   {
    "duration": 59,
    "start_time": "2022-10-15T09:59:03.613Z"
   },
   {
    "duration": 9,
    "start_time": "2022-10-15T09:59:03.674Z"
   },
   {
    "duration": 9,
    "start_time": "2022-10-15T09:59:03.685Z"
   },
   {
    "duration": 369,
    "start_time": "2022-10-15T09:59:03.696Z"
   },
   {
    "duration": 20,
    "start_time": "2022-10-15T09:59:04.067Z"
   },
   {
    "duration": 197,
    "start_time": "2022-10-15T09:59:04.088Z"
   },
   {
    "duration": 197,
    "start_time": "2022-10-15T09:59:04.286Z"
   },
   {
    "duration": 280,
    "start_time": "2022-10-15T09:59:04.485Z"
   },
   {
    "duration": 187,
    "start_time": "2022-10-15T09:59:04.767Z"
   },
   {
    "duration": 200,
    "start_time": "2022-10-15T09:59:04.956Z"
   },
   {
    "duration": 178,
    "start_time": "2022-10-15T09:59:05.157Z"
   },
   {
    "duration": 192,
    "start_time": "2022-10-15T09:59:05.337Z"
   },
   {
    "duration": 150,
    "start_time": "2022-10-15T09:59:05.531Z"
   },
   {
    "duration": 173,
    "start_time": "2022-10-15T09:59:05.683Z"
   },
   {
    "duration": 174,
    "start_time": "2022-10-15T09:59:05.857Z"
   },
   {
    "duration": 172,
    "start_time": "2022-10-15T09:59:06.033Z"
   },
   {
    "duration": 188,
    "start_time": "2022-10-15T09:59:06.207Z"
   },
   {
    "duration": 182,
    "start_time": "2022-10-15T09:59:06.398Z"
   },
   {
    "duration": 208,
    "start_time": "2022-10-15T09:59:06.582Z"
   },
   {
    "duration": 8,
    "start_time": "2022-10-15T09:59:06.792Z"
   },
   {
    "duration": 10,
    "start_time": "2022-10-15T09:59:06.801Z"
   },
   {
    "duration": 321,
    "start_time": "2022-10-15T09:59:06.813Z"
   },
   {
    "duration": 187,
    "start_time": "2022-10-15T09:59:07.135Z"
   },
   {
    "duration": 185,
    "start_time": "2022-10-15T09:59:07.323Z"
   },
   {
    "duration": 180,
    "start_time": "2022-10-15T09:59:07.510Z"
   },
   {
    "duration": 168,
    "start_time": "2022-10-15T09:59:07.692Z"
   },
   {
    "duration": 495,
    "start_time": "2022-10-15T09:59:07.862Z"
   },
   {
    "duration": 14,
    "start_time": "2022-10-15T09:59:08.359Z"
   },
   {
    "duration": 9,
    "start_time": "2022-10-15T09:59:08.375Z"
   },
   {
    "duration": 8,
    "start_time": "2022-10-15T09:59:08.386Z"
   },
   {
    "duration": 24,
    "start_time": "2022-10-15T09:59:08.395Z"
   },
   {
    "duration": 7,
    "start_time": "2022-10-15T09:59:08.421Z"
   },
   {
    "duration": 219,
    "start_time": "2022-10-15T09:59:08.455Z"
   },
   {
    "duration": 28,
    "start_time": "2022-10-15T09:59:08.676Z"
   },
   {
    "duration": 341,
    "start_time": "2022-10-15T09:59:08.706Z"
   },
   {
    "duration": 35,
    "start_time": "2022-10-15T10:34:44.791Z"
   },
   {
    "duration": 648,
    "start_time": "2022-10-15T10:34:57.770Z"
   },
   {
    "duration": 2,
    "start_time": "2022-10-15T10:34:58.420Z"
   },
   {
    "duration": 92,
    "start_time": "2022-10-15T10:34:58.424Z"
   },
   {
    "duration": 72,
    "start_time": "2022-10-15T10:34:58.519Z"
   },
   {
    "duration": 66,
    "start_time": "2022-10-15T10:34:58.593Z"
   },
   {
    "duration": 2764,
    "start_time": "2022-10-15T10:34:58.661Z"
   },
   {
    "duration": 8,
    "start_time": "2022-10-15T10:35:01.427Z"
   },
   {
    "duration": 1521,
    "start_time": "2022-10-15T10:35:01.437Z"
   },
   {
    "duration": 348,
    "start_time": "2022-10-15T10:35:02.960Z"
   },
   {
    "duration": 4704,
    "start_time": "2022-10-15T10:35:03.311Z"
   },
   {
    "duration": 7,
    "start_time": "2022-10-15T10:35:08.017Z"
   },
   {
    "duration": 48,
    "start_time": "2022-10-15T10:35:08.025Z"
   },
   {
    "duration": 5,
    "start_time": "2022-10-15T10:35:08.075Z"
   },
   {
    "duration": 8,
    "start_time": "2022-10-15T10:35:08.081Z"
   },
   {
    "duration": 11,
    "start_time": "2022-10-15T10:35:08.091Z"
   },
   {
    "duration": 9,
    "start_time": "2022-10-15T10:35:08.104Z"
   },
   {
    "duration": 40,
    "start_time": "2022-10-15T10:35:08.115Z"
   },
   {
    "duration": 142,
    "start_time": "2022-10-15T10:35:08.157Z"
   },
   {
    "duration": 20,
    "start_time": "2022-10-15T10:35:08.301Z"
   },
   {
    "duration": 8,
    "start_time": "2022-10-15T10:35:08.322Z"
   },
   {
    "duration": 23,
    "start_time": "2022-10-15T10:35:08.332Z"
   },
   {
    "duration": 7,
    "start_time": "2022-10-15T10:35:08.357Z"
   },
   {
    "duration": 10,
    "start_time": "2022-10-15T10:35:08.366Z"
   },
   {
    "duration": 11,
    "start_time": "2022-10-15T10:35:08.378Z"
   },
   {
    "duration": 12,
    "start_time": "2022-10-15T10:35:08.390Z"
   },
   {
    "duration": 51,
    "start_time": "2022-10-15T10:35:08.404Z"
   },
   {
    "duration": 509,
    "start_time": "2022-10-15T10:35:08.457Z"
   },
   {
    "duration": 17,
    "start_time": "2022-10-15T10:35:08.970Z"
   },
   {
    "duration": 6,
    "start_time": "2022-10-15T10:35:08.988Z"
   },
   {
    "duration": 16,
    "start_time": "2022-10-15T10:35:08.995Z"
   },
   {
    "duration": 7,
    "start_time": "2022-10-15T10:35:09.013Z"
   },
   {
    "duration": 61,
    "start_time": "2022-10-15T10:35:09.022Z"
   },
   {
    "duration": 10,
    "start_time": "2022-10-15T10:35:09.084Z"
   },
   {
    "duration": 8,
    "start_time": "2022-10-15T10:35:09.095Z"
   },
   {
    "duration": 334,
    "start_time": "2022-10-15T10:35:09.105Z"
   },
   {
    "duration": 22,
    "start_time": "2022-10-15T10:35:09.441Z"
   },
   {
    "duration": 23,
    "start_time": "2022-10-15T10:35:09.464Z"
   },
   {
    "duration": 168,
    "start_time": "2022-10-15T10:35:09.488Z"
   },
   {
    "duration": 177,
    "start_time": "2022-10-15T10:35:09.658Z"
   },
   {
    "duration": 160,
    "start_time": "2022-10-15T10:35:09.837Z"
   },
   {
    "duration": 253,
    "start_time": "2022-10-15T10:35:09.999Z"
   },
   {
    "duration": 190,
    "start_time": "2022-10-15T10:35:10.254Z"
   },
   {
    "duration": 191,
    "start_time": "2022-10-15T10:35:10.446Z"
   },
   {
    "duration": 175,
    "start_time": "2022-10-15T10:35:10.639Z"
   },
   {
    "duration": 129,
    "start_time": "2022-10-15T10:35:10.816Z"
   },
   {
    "duration": 177,
    "start_time": "2022-10-15T10:35:10.946Z"
   },
   {
    "duration": 168,
    "start_time": "2022-10-15T10:35:11.125Z"
   },
   {
    "duration": 182,
    "start_time": "2022-10-15T10:35:11.295Z"
   },
   {
    "duration": 299,
    "start_time": "2022-10-15T10:35:11.479Z"
   },
   {
    "duration": 374,
    "start_time": "2022-10-15T10:35:11.780Z"
   },
   {
    "duration": 342,
    "start_time": "2022-10-15T10:35:12.156Z"
   },
   {
    "duration": 6,
    "start_time": "2022-10-15T10:35:12.554Z"
   },
   {
    "duration": 18,
    "start_time": "2022-10-15T10:35:12.562Z"
   },
   {
    "duration": 388,
    "start_time": "2022-10-15T10:35:12.582Z"
   },
   {
    "duration": 593,
    "start_time": "2022-10-15T10:35:12.972Z"
   },
   {
    "duration": 212,
    "start_time": "2022-10-15T10:35:13.566Z"
   },
   {
    "duration": 171,
    "start_time": "2022-10-15T10:35:13.779Z"
   },
   {
    "duration": 165,
    "start_time": "2022-10-15T10:35:13.954Z"
   },
   {
    "duration": 471,
    "start_time": "2022-10-15T10:35:14.121Z"
   },
   {
    "duration": 12,
    "start_time": "2022-10-15T10:35:14.594Z"
   },
   {
    "duration": 6,
    "start_time": "2022-10-15T10:35:14.608Z"
   },
   {
    "duration": 9,
    "start_time": "2022-10-15T10:35:14.616Z"
   },
   {
    "duration": 39,
    "start_time": "2022-10-15T10:35:14.627Z"
   },
   {
    "duration": 6,
    "start_time": "2022-10-15T10:35:14.668Z"
   },
   {
    "duration": 203,
    "start_time": "2022-10-15T10:35:14.676Z"
   },
   {
    "duration": 26,
    "start_time": "2022-10-15T10:35:14.880Z"
   },
   {
    "duration": 315,
    "start_time": "2022-10-15T10:35:14.908Z"
   },
   {
    "duration": 249,
    "start_time": "2022-10-15T10:37:59.929Z"
   },
   {
    "duration": 255,
    "start_time": "2022-10-15T10:38:06.813Z"
   },
   {
    "duration": 69,
    "start_time": "2022-10-15T10:45:07.740Z"
   },
   {
    "duration": 694,
    "start_time": "2022-10-15T10:45:29.502Z"
   },
   {
    "duration": 670,
    "start_time": "2022-10-15T11:16:17.682Z"
   },
   {
    "duration": 2,
    "start_time": "2022-10-15T11:16:18.355Z"
   },
   {
    "duration": 90,
    "start_time": "2022-10-15T11:16:18.360Z"
   },
   {
    "duration": 45,
    "start_time": "2022-10-15T11:16:18.452Z"
   },
   {
    "duration": 17,
    "start_time": "2022-10-15T11:16:18.499Z"
   },
   {
    "duration": 1911,
    "start_time": "2022-10-15T11:16:18.518Z"
   },
   {
    "duration": 7,
    "start_time": "2022-10-15T11:16:20.431Z"
   },
   {
    "duration": 1500,
    "start_time": "2022-10-15T11:16:20.439Z"
   },
   {
    "duration": 367,
    "start_time": "2022-10-15T11:16:21.940Z"
   },
   {
    "duration": 4664,
    "start_time": "2022-10-15T11:16:22.308Z"
   },
   {
    "duration": 7,
    "start_time": "2022-10-15T11:16:26.974Z"
   },
   {
    "duration": 44,
    "start_time": "2022-10-15T11:16:26.982Z"
   },
   {
    "duration": 5,
    "start_time": "2022-10-15T11:16:27.027Z"
   },
   {
    "duration": 22,
    "start_time": "2022-10-15T11:16:27.035Z"
   },
   {
    "duration": 17,
    "start_time": "2022-10-15T11:16:27.059Z"
   },
   {
    "duration": 6,
    "start_time": "2022-10-15T11:16:27.077Z"
   },
   {
    "duration": 24,
    "start_time": "2022-10-15T11:16:27.085Z"
   },
   {
    "duration": 145,
    "start_time": "2022-10-15T11:16:27.110Z"
   },
   {
    "duration": 19,
    "start_time": "2022-10-15T11:16:27.257Z"
   },
   {
    "duration": 16,
    "start_time": "2022-10-15T11:16:27.277Z"
   },
   {
    "duration": 9,
    "start_time": "2022-10-15T11:16:27.295Z"
   },
   {
    "duration": 7,
    "start_time": "2022-10-15T11:16:27.306Z"
   },
   {
    "duration": 8,
    "start_time": "2022-10-15T11:16:27.315Z"
   },
   {
    "duration": 33,
    "start_time": "2022-10-15T11:16:27.324Z"
   },
   {
    "duration": 8,
    "start_time": "2022-10-15T11:16:27.359Z"
   },
   {
    "duration": 23,
    "start_time": "2022-10-15T11:16:27.368Z"
   },
   {
    "duration": 522,
    "start_time": "2022-10-15T11:16:27.393Z"
   },
   {
    "duration": 17,
    "start_time": "2022-10-15T11:16:27.917Z"
   },
   {
    "duration": 6,
    "start_time": "2022-10-15T11:16:27.935Z"
   },
   {
    "duration": 13,
    "start_time": "2022-10-15T11:16:27.954Z"
   },
   {
    "duration": 5,
    "start_time": "2022-10-15T11:16:27.969Z"
   },
   {
    "duration": 41,
    "start_time": "2022-10-15T11:16:27.976Z"
   },
   {
    "duration": 9,
    "start_time": "2022-10-15T11:16:28.019Z"
   },
   {
    "duration": 28,
    "start_time": "2022-10-15T11:16:28.029Z"
   },
   {
    "duration": 331,
    "start_time": "2022-10-15T11:16:28.058Z"
   },
   {
    "duration": 17,
    "start_time": "2022-10-15T11:16:28.391Z"
   },
   {
    "duration": 168,
    "start_time": "2022-10-15T11:16:28.410Z"
   },
   {
    "duration": 194,
    "start_time": "2022-10-15T11:16:28.580Z"
   },
   {
    "duration": 162,
    "start_time": "2022-10-15T11:16:28.777Z"
   },
   {
    "duration": 252,
    "start_time": "2022-10-15T11:16:28.942Z"
   },
   {
    "duration": 172,
    "start_time": "2022-10-15T11:16:29.198Z"
   },
   {
    "duration": 613,
    "start_time": "2022-10-15T11:16:29.372Z"
   },
   {
    "duration": 187,
    "start_time": "2022-10-15T11:16:29.987Z"
   },
   {
    "duration": 288,
    "start_time": "2022-10-15T11:16:30.176Z"
   },
   {
    "duration": 141,
    "start_time": "2022-10-15T11:16:30.466Z"
   },
   {
    "duration": 181,
    "start_time": "2022-10-15T11:16:30.609Z"
   },
   {
    "duration": 177,
    "start_time": "2022-10-15T11:16:30.792Z"
   },
   {
    "duration": 177,
    "start_time": "2022-10-15T11:16:30.971Z"
   },
   {
    "duration": 174,
    "start_time": "2022-10-15T11:16:31.150Z"
   },
   {
    "duration": 244,
    "start_time": "2022-10-15T11:16:31.326Z"
   },
   {
    "duration": 245,
    "start_time": "2022-10-15T11:16:31.572Z"
   },
   {
    "duration": 6,
    "start_time": "2022-10-15T11:16:31.818Z"
   },
   {
    "duration": 28,
    "start_time": "2022-10-15T11:16:31.826Z"
   },
   {
    "duration": 214,
    "start_time": "2022-10-15T11:16:31.856Z"
   },
   {
    "duration": 184,
    "start_time": "2022-10-15T11:16:32.072Z"
   },
   {
    "duration": 186,
    "start_time": "2022-10-15T11:16:32.257Z"
   },
   {
    "duration": 171,
    "start_time": "2022-10-15T11:16:32.445Z"
   },
   {
    "duration": 166,
    "start_time": "2022-10-15T11:16:32.618Z"
   },
   {
    "duration": 614,
    "start_time": "2022-10-15T11:16:32.785Z"
   },
   {
    "duration": 13,
    "start_time": "2022-10-15T11:16:33.401Z"
   },
   {
    "duration": 8,
    "start_time": "2022-10-15T11:16:33.416Z"
   },
   {
    "duration": 14,
    "start_time": "2022-10-15T11:16:33.426Z"
   },
   {
    "duration": 29,
    "start_time": "2022-10-15T11:16:33.455Z"
   },
   {
    "duration": 7,
    "start_time": "2022-10-15T11:16:33.486Z"
   },
   {
    "duration": 207,
    "start_time": "2022-10-15T11:16:33.495Z"
   },
   {
    "duration": 24,
    "start_time": "2022-10-15T11:16:33.704Z"
   },
   {
    "duration": 331,
    "start_time": "2022-10-15T11:16:33.730Z"
   }
  ],
  "kernelspec": {
   "display_name": "Python 3 (ipykernel)",
   "language": "python",
   "name": "python3"
  },
  "language_info": {
   "codemirror_mode": {
    "name": "ipython",
    "version": 3
   },
   "file_extension": ".py",
   "mimetype": "text/x-python",
   "name": "python",
   "nbconvert_exporter": "python",
   "pygments_lexer": "ipython3",
   "version": "3.9.12"
  },
  "toc": {
   "base_numbering": 1,
   "nav_menu": {},
   "number_sections": true,
   "sideBar": true,
   "skip_h1_title": false,
   "title_cell": "Table of Contents",
   "title_sidebar": "Contents",
   "toc_cell": false,
   "toc_position": {
    "height": "calc(100% - 180px)",
    "left": "10px",
    "top": "150px",
    "width": "289.3px"
   },
   "toc_section_display": true,
   "toc_window_display": true
  }
 },
 "nbformat": 4,
 "nbformat_minor": 5
}
